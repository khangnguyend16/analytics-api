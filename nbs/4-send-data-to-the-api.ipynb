{
 "cells": [
  {
   "cell_type": "code",
   "execution_count": 52,
   "id": "daf217ca",
   "metadata": {},
   "outputs": [],
   "source": [
    "import requests\n",
    "base_url = \"http://localhost:8002\"   # 127.0.0.1"
   ]
  },
  {
   "cell_type": "code",
   "execution_count": 53,
   "id": "c3e815ed",
   "metadata": {},
   "outputs": [
    {
     "name": "stdout",
     "output_type": "stream",
     "text": [
      "<class 'dict'>\n",
      "<class 'str'>\n"
     ]
    }
   ],
   "source": [
    "import json\n",
    "data={\"page\":\"/test+\"}\n",
    "print(type(data))\n",
    "print(type(json.dumps(data)))"
   ]
  },
  {
   "cell_type": "code",
   "execution_count": 54,
   "id": "3fc56054",
   "metadata": {},
   "outputs": [
    {
     "name": "stdout",
     "output_type": "stream",
     "text": [
      "{'date': 'Fri, 03 Oct 2025 15:27:55 GMT', 'server': 'uvicorn', 'content-length': '43', 'content-type': 'application/json'}\n",
      "ok True\n",
      "{'id': 123, 'page': '/test+', 'description': ''} <class 'dict'> None\n"
     ]
    }
   ],
   "source": [
    "path = \"/api/events\"\n",
    "create_endpoint = f\"{base_url}{path}\"\n",
    "response = requests.post(create_endpoint,json={\"page\":\"/test+\"})\n",
    "print(response.headers)\n",
    "print('ok',response.ok)\n",
    "if response.ok:\n",
    "    data = response.json()\n",
    "    print(data,type(data),data.get('items'))\n",
    "else:\n",
    "    print(response.text)"
   ]
  },
  {
   "cell_type": "code",
   "execution_count": 56,
   "id": "a57eaada",
   "metadata": {},
   "outputs": [
    {
     "name": "stdout",
     "output_type": "stream",
     "text": [
      "{'date': 'Fri, 03 Oct 2025 15:28:04 GMT', 'server': 'uvicorn', 'content-length': '47', 'content-type': 'application/json'}\n",
      "ok True\n",
      "{'id': 12, 'page': '', 'description': 'hello-world'} <class 'dict'> None\n"
     ]
    }
   ],
   "source": [
    "detail_path = \"/api/events/12\"\n",
    "detail_endpoint = f\"{base_url}{detail_path}\"\n",
    "response = requests.put(detail_endpoint,json={\"description\":\"hello-world\"})\n",
    "print(response.headers)\n",
    "print('ok',response.ok)\n",
    "if response.ok:\n",
    "    data = response.json()\n",
    "    print(data,type(data),data.get('items'))\n",
    "else:\n",
    "    print(response.text)"
   ]
  },
  {
   "cell_type": "code",
   "execution_count": null,
   "id": "626a7713",
   "metadata": {},
   "outputs": [],
   "source": []
  },
  {
   "cell_type": "code",
   "execution_count": null,
   "id": "485e7392",
   "metadata": {},
   "outputs": [],
   "source": []
  },
  {
   "cell_type": "code",
   "execution_count": null,
   "id": "4edf418a",
   "metadata": {},
   "outputs": [],
   "source": []
  }
 ],
 "metadata": {
  "kernelspec": {
   "display_name": "venv",
   "language": "python",
   "name": "python3"
  },
  "language_info": {
   "codemirror_mode": {
    "name": "ipython",
    "version": 3
   },
   "file_extension": ".py",
   "mimetype": "text/x-python",
   "name": "python",
   "nbconvert_exporter": "python",
   "pygments_lexer": "ipython3",
   "version": "3.13.7"
  }
 },
 "nbformat": 4,
 "nbformat_minor": 5
}
