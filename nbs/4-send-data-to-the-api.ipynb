{
 "cells": [
  {
   "cell_type": "code",
   "execution_count": 27,
   "id": "daf217ca",
   "metadata": {},
   "outputs": [],
   "source": [
    "import requests\n",
    "base_url = \"http://localhost:8002\"   # 127.0.0.1"
   ]
  },
  {
   "cell_type": "code",
   "execution_count": 2,
   "id": "c3e815ed",
   "metadata": {},
   "outputs": [
    {
     "name": "stdout",
     "output_type": "stream",
     "text": [
      "<class 'dict'>\n",
      "<class 'str'>\n"
     ]
    }
   ],
   "source": [
    "import json\n",
    "data={\"page\":\"/test+\"}\n",
    "print(type(data))\n",
    "print(type(json.dumps(data)))"
   ]
  },
  {
   "cell_type": "code",
   "execution_count": 29,
   "id": "3fc56054",
   "metadata": {},
   "outputs": [
    {
     "name": "stdout",
     "output_type": "stream",
     "text": [
      "{'date': 'Sat, 04 Oct 2025 12:03:48 GMT', 'server': 'uvicorn', 'content-length': '130', 'content-type': 'application/json'}\n",
      "ok True\n",
      "{'created_at': '2025-10-04T12:03:48.858215Z', 'page': '/test+', 'updated_at': '2025-10-04T12:03:48.858222Z', 'description': '123', 'id': 1} <class 'dict'> None\n"
     ]
    }
   ],
   "source": [
    "path = \"/api/events\"\n",
    "create_endpoint = f\"{base_url}{path}\"\n",
    "response = requests.post(create_endpoint,json={\"page\":\"/test+\",\"description\":\"123\"})\n",
    "print(response.headers)\n",
    "print('ok',response.ok)\n",
    "if response.ok:\n",
    "    data = response.json()\n",
    "    print(data,type(data),data.get('items'))\n",
    "else:\n",
    "    print(response.text)"
   ]
  },
  {
   "cell_type": "code",
   "execution_count": 31,
   "id": "a57eaada",
   "metadata": {},
   "outputs": [
    {
     "name": "stdout",
     "output_type": "stream",
     "text": [
      "{'date': 'Sat, 04 Oct 2025 12:04:33 GMT', 'server': 'uvicorn', 'content-length': '138', 'content-type': 'application/json'}\n",
      "ok True\n",
      "{'created_at': '2025-10-04T12:03:48.858215Z', 'page': '/test+', 'updated_at': '2025-10-04T12:04:34.218887Z', 'description': 'inline test', 'id': 1} <class 'dict'> None\n"
     ]
    }
   ],
   "source": [
    "detail_path = \"/api/events/1\"\n",
    "detail_endpoint = f\"{base_url}{detail_path}\"\n",
    "response = requests.put(detail_endpoint,json={\"description\":\"inline test\"})\n",
    "print(response.headers)\n",
    "print('ok',response.ok)\n",
    "if response.ok:\n",
    "    data = response.json()\n",
    "    print(data,type(data),data.get('items'))\n",
    "else:\n",
    "    print(response.text)"
   ]
  },
  {
   "cell_type": "code",
   "execution_count": 26,
   "id": "626a7713",
   "metadata": {},
   "outputs": [
    {
     "name": "stdout",
     "output_type": "stream",
     "text": [
      "{'date': 'Sat, 04 Oct 2025 11:30:52 GMT', 'server': 'uvicorn', 'content-length': '11', 'content-type': 'application/json'}\n",
      "ok True\n",
      "{'ok': True} <class 'dict'> None\n"
     ]
    }
   ],
   "source": [
    "detail_path = \"/api/events/12\"\n",
    "detail_endpoint = f\"{base_url}{detail_path}\"\n",
    "response = requests.delete(detail_endpoint,json={\"description\":\"inline test\"})\n",
    "print(response.headers)\n",
    "print('ok',response.ok)\n",
    "if response.ok:\n",
    "    data = response.json()\n",
    "    print(data,type(data),data.get('items'))\n",
    "else:\n",
    "    print(response.text)"
   ]
  },
  {
   "cell_type": "code",
   "execution_count": null,
   "id": "485e7392",
   "metadata": {},
   "outputs": [],
   "source": []
  },
  {
   "cell_type": "code",
   "execution_count": null,
   "id": "4edf418a",
   "metadata": {},
   "outputs": [],
   "source": []
  }
 ],
 "metadata": {
  "kernelspec": {
   "display_name": "venv",
   "language": "python",
   "name": "python3"
  },
  "language_info": {
   "codemirror_mode": {
    "name": "ipython",
    "version": 3
   },
   "file_extension": ".py",
   "mimetype": "text/x-python",
   "name": "python",
   "nbconvert_exporter": "python",
   "pygments_lexer": "ipython3",
   "version": "3.13.7"
  }
 },
 "nbformat": 4,
 "nbformat_minor": 5
}
