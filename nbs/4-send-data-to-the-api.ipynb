{
 "cells": [
  {
   "cell_type": "code",
   "execution_count": 2,
   "id": "daf217ca",
   "metadata": {},
   "outputs": [],
   "source": [
    "import requests\n",
    "base_url = \"http://localhost:8002\"   # 127.0.0.1"
   ]
  },
  {
   "cell_type": "code",
   "execution_count": 2,
   "id": "c3e815ed",
   "metadata": {},
   "outputs": [
    {
     "name": "stdout",
     "output_type": "stream",
     "text": [
      "<class 'dict'>\n",
      "<class 'str'>\n"
     ]
    }
   ],
   "source": [
    "import json\n",
    "data={\"page\":\"/test+\"}\n",
    "print(type(data))\n",
    "print(type(json.dumps(data)))"
   ]
  },
  {
   "cell_type": "code",
   "execution_count": 20,
   "id": "3fc56054",
   "metadata": {},
   "outputs": [
    {
     "name": "stdout",
     "output_type": "stream",
     "text": [
      "{'date': 'Sun, 05 Oct 2025 08:52:58 GMT', 'server': 'uvicorn', 'content-length': '126', 'content-type': 'application/json'}\n",
      "ok True\n",
      "{'description': '123', 'id': 204, 'page': '/test+', 'updated_at': '2025-10-05T08:52:58.980779Z', 'time': '2025-10-05T08:52:58.980769Z'} <class 'dict'> None\n"
     ]
    }
   ],
   "source": [
    "path = \"/api/events\"\n",
    "create_endpoint = f\"{base_url}{path}\"\n",
    "response = requests.post(create_endpoint,json={\"page\":\"/test+\",\"description\":\"123\"})\n",
    "print(response.headers)\n",
    "print('ok',response.ok)\n",
    "if response.ok:\n",
    "    data = response.json()\n",
    "    print(data,type(data),data.get('items'))\n",
    "else:\n",
    "    print(response.text)"
   ]
  },
  {
   "cell_type": "code",
   "execution_count": 31,
   "id": "a57eaada",
   "metadata": {},
   "outputs": [
    {
     "name": "stdout",
     "output_type": "stream",
     "text": [
      "{'date': 'Sat, 04 Oct 2025 12:04:33 GMT', 'server': 'uvicorn', 'content-length': '138', 'content-type': 'application/json'}\n",
      "ok True\n",
      "{'created_at': '2025-10-04T12:03:48.858215Z', 'page': '/test+', 'updated_at': '2025-10-04T12:04:34.218887Z', 'description': 'inline test', 'id': 1} <class 'dict'> None\n"
     ]
    }
   ],
   "source": [
    "detail_path = \"/api/events/1\"\n",
    "detail_endpoint = f\"{base_url}{detail_path}\"\n",
    "response = requests.put(detail_endpoint,json={\"description\":\"inline test\"})\n",
    "print(response.headers)\n",
    "print('ok',response.ok)\n",
    "if response.ok:\n",
    "    data = response.json()\n",
    "    print(data,type(data),data.get('items'))\n",
    "else:\n",
    "    print(response.text)"
   ]
  },
  {
   "cell_type": "code",
   "execution_count": 26,
   "id": "626a7713",
   "metadata": {},
   "outputs": [
    {
     "name": "stdout",
     "output_type": "stream",
     "text": [
      "{'date': 'Sat, 04 Oct 2025 11:30:52 GMT', 'server': 'uvicorn', 'content-length': '11', 'content-type': 'application/json'}\n",
      "ok True\n",
      "{'ok': True} <class 'dict'> None\n"
     ]
    }
   ],
   "source": [
    "detail_path = \"/api/events/12\"\n",
    "detail_endpoint = f\"{base_url}{detail_path}\"\n",
    "response = requests.delete(detail_endpoint,json={\"description\":\"inline test\"})\n",
    "print(response.headers)\n",
    "print('ok',response.ok)\n",
    "if response.ok:\n",
    "    data = response.json()\n",
    "    print(data,type(data),data.get('items'))\n",
    "else:\n",
    "    print(response.text)"
   ]
  },
  {
   "cell_type": "code",
   "execution_count": null,
   "id": "485e7392",
   "metadata": {},
   "outputs": [],
   "source": [
    "import random\n",
    "event_count = 100\n",
    "\n",
    "pages = ['/about','/contact','/pages','/pricing']\n",
    "\n",
    "for i in range(event_count):\n",
    "    page = random.choice(pages)\n",
    "    response = requests.post(create_endpoint,json={\"page\":page})\n",
    "    if (response.ok):\n",
    "        data = response.json()\n",
    "        print(data,type(data),data.get('items'))\n",
    "    else:\n",
    "        print(response.text)"
   ]
  },
  {
   "cell_type": "code",
   "execution_count": 23,
   "id": "4edf418a",
   "metadata": {},
   "outputs": [
    {
     "name": "stdout",
     "output_type": "stream",
     "text": [
      "Collecting faker\n",
      "  Downloading faker-37.8.0-py3-none-any.whl.metadata (15 kB)\n",
      "Requirement already satisfied: tzdata in d:\\onedrive\\knowledge\\computer\\youtube\\codingentrepreneurs\\analytics-api\\venv\\lib\\site-packages (from faker) (2025.2)\n",
      "Downloading faker-37.8.0-py3-none-any.whl (2.0 MB)\n",
      "   ---------------------------------------- 0.0/2.0 MB ? eta -:--:--\n",
      "   ------------------------------------- -- 1.8/2.0 MB 16.5 MB/s eta 0:00:01\n",
      "   ---------------------------------------- 2.0/2.0 MB 13.3 MB/s  0:00:00\n",
      "Installing collected packages: faker\n",
      "Successfully installed faker-37.8.0\n",
      "Note: you may need to restart the kernel to use updated packages.\n"
     ]
    }
   ],
   "source": [
    "%pip install faker"
   ]
  },
  {
   "cell_type": "code",
   "execution_count": 5,
   "id": "f3137eef",
   "metadata": {},
   "outputs": [
    {
     "name": "stdout",
     "output_type": "stream",
     "text": [
      "{'time': '2025-10-05T15:58:45.209220Z', 'page': '/pricing', 'ip_address': '13.10.78.119', 'session_id': '2ce28037-15d4-4e05-8b8b-784f8b16bf83', 'id': 1, 'user_agent': 'Mozilla/5.0 (iPod; U; CPU iPhone OS 3_1 like Mac OS X; mni-IN) AppleWebKit/533.45.5 (KHTML, like Gecko) Version/3.0.5 Mobile/8B117 Safari/6533.45.5', 'referrer': 'https://google.com', 'duration': 1750}\n",
      "{'time': '2025-10-05T15:58:45.935556Z', 'page': '/blog', 'ip_address': '180.236.18.67', 'session_id': 'fc6ea486-bb62-49c6-ab85-0d5cdb56ea95', 'id': 2, 'user_agent': 'Mozilla/5.0 (compatible; MSIE 7.0; Windows 98; Trident/4.1)', 'referrer': 'https://google.com', 'duration': 3699}\n",
      "{'time': '2025-10-05T15:58:46.574768Z', 'page': '/products', 'ip_address': '78.111.100.33', 'session_id': 'f73cbb45-2a07-402a-a3ed-46ca5b510457', 'id': 3, 'user_agent': 'Mozilla/5.0 (compatible; MSIE 8.0; Windows NT 4.0; Trident/5.0)', 'referrer': 'https://twitter.com', 'duration': 937}\n",
      "{'time': '2025-10-05T15:58:47.210428Z', 'page': '/login', 'ip_address': '44.12.97.82', 'session_id': '9a273af6-61e0-4c47-b6b8-04252b0c6158', 'id': 4, 'user_agent': 'Mozilla/5.0 (Windows; U; Windows NT 10.0) AppleWebKit/531.35.5 (KHTML, like Gecko) Version/4.0 Safari/531.35.5', 'referrer': '', 'duration': 1920}\n",
      "{'time': '2025-10-05T15:58:47.822214Z', 'page': '/pricing', 'ip_address': '143.1.140.242', 'session_id': 'a6dd8838-956f-49cd-b175-d54482864159', 'id': 5, 'user_agent': 'Mozilla/5.0 (Linux; Android 1.6) AppleWebKit/535.0 (KHTML, like Gecko) Chrome/63.0.881.0 Safari/535.0', 'referrer': 'https://facebook.com', 'duration': 795}\n",
      "{'time': '2025-10-05T15:58:48.463119Z', 'page': '/login', 'ip_address': '162.122.31.109', 'session_id': '596c9d97-75b6-42c7-9825-1815e4f7b3e4', 'id': 6, 'user_agent': 'Mozilla/5.0 (iPod; U; CPU iPhone OS 3_3 like Mac OS X; sl-SI) AppleWebKit/535.31.7 (KHTML, like Gecko) Version/4.0.5 Mobile/8B114 Safari/6535.31.7', 'referrer': 'https://google.com', 'duration': 4829}\n",
      "{'time': '2025-10-05T15:58:49.126908Z', 'page': '/settings', 'ip_address': '39.181.171.18', 'session_id': 'f73cbb45-2a07-402a-a3ed-46ca5b510457', 'id': 7, 'user_agent': 'Mozilla/5.0 (iPad; CPU iPad OS 12_4_4 like Mac OS X) AppleWebKit/533.2 (KHTML, like Gecko) CriOS/62.0.872.0 Mobile/04P266 Safari/533.2', 'referrer': '', 'duration': 3309}\n",
      "{'time': '2025-10-05T15:58:49.792053Z', 'page': '/blog', 'ip_address': '204.66.176.134', 'session_id': '792d1191-1107-4928-8e61-9842ebd629c9', 'id': 8, 'user_agent': 'Mozilla/5.0 (Macintosh; Intel Mac OS X 10_6_0) AppleWebKit/533.0 (KHTML, like Gecko) Chrome/36.0.826.0 Safari/533.0', 'referrer': 'https://linkedin.com', 'duration': 1826}\n",
      "{'time': '2025-10-05T15:58:50.423008Z', 'page': '/about', 'ip_address': '117.2.182.173', 'session_id': '61bdea11-3426-4134-9687-4ff7a010644f', 'id': 9, 'user_agent': 'Opera/8.40.(X11; Linux i686; ckb-IQ) Presto/2.9.178 Version/11.00', 'referrer': 'https://linkedin.com', 'duration': 3651}\n",
      "{'time': '2025-10-05T15:58:51.248456Z', 'page': '/blog', 'ip_address': '213.84.246.157', 'session_id': '067ca2f2-b683-47c2-ac1f-ac91c609c35d', 'id': 10, 'user_agent': 'Mozilla/5.0 (X11; Linux x86_64) AppleWebKit/532.1 (KHTML, like Gecko) Chrome/15.0.859.0 Safari/532.1', 'referrer': 'https://facebook.com', 'duration': 1813}\n",
      "{'time': '2025-10-05T15:58:52.029540Z', 'page': '/', 'ip_address': '37.28.200.182', 'session_id': '9a273af6-61e0-4c47-b6b8-04252b0c6158', 'id': 11, 'user_agent': 'Mozilla/5.0 (Macintosh; U; Intel Mac OS X 10_11_1) AppleWebKit/534.2 (KHTML, like Gecko) Chrome/32.0.883.0 Safari/534.2', 'referrer': 'https://google.com', 'duration': 4582}\n",
      "{'time': '2025-10-05T15:58:52.689771Z', 'page': '/dashboard', 'ip_address': '102.197.81.3', 'session_id': 'c40ca856-50be-4942-ae43-141c4a815480', 'id': 12, 'user_agent': 'Opera/8.57.(X11; Linux x86_64; tt-RU) Presto/2.9.160 Version/11.00', 'referrer': 'https://linkedin.com', 'duration': 4311}\n",
      "{'time': '2025-10-05T15:58:53.382517Z', 'page': '/contact', 'ip_address': '162.253.19.86', 'session_id': 'a6dd8838-956f-49cd-b175-d54482864159', 'id': 13, 'user_agent': 'Mozilla/5.0 (Android 2.3.1; Mobile; rv:52.0) Gecko/52.0 Firefox/52.0', 'referrer': 'https://twitter.com', 'duration': 4923}\n",
      "{'time': '2025-10-05T15:58:54.278056Z', 'page': '/signup', 'ip_address': '186.191.25.96', 'session_id': '067ca2f2-b683-47c2-ac1f-ac91c609c35d', 'id': 14, 'user_agent': 'Mozilla/5.0 (Windows NT 10.0) AppleWebKit/536.1 (KHTML, like Gecko) Chrome/20.0.820.0 Safari/536.1', 'referrer': 'https://google.com', 'duration': 1481}\n",
      "{'time': '2025-10-05T15:58:55.054140Z', 'page': '/blog', 'ip_address': '185.244.36.51', 'session_id': 'f73cbb45-2a07-402a-a3ed-46ca5b510457', 'id': 15, 'user_agent': 'Opera/8.12.(Windows NT 6.1; sq-AL) Presto/2.9.190 Version/10.00', 'referrer': 'https://twitter.com', 'duration': 4088}\n",
      "{'time': '2025-10-05T15:58:55.878395Z', 'page': '/contact', 'ip_address': '33.5.19.159', 'session_id': '61bdea11-3426-4134-9687-4ff7a010644f', 'id': 16, 'user_agent': 'Mozilla/5.0 (Macintosh; U; Intel Mac OS X 10_5_4) AppleWebKit/531.0 (KHTML, like Gecko) Chrome/23.0.864.0 Safari/531.0', 'referrer': 'https://linkedin.com', 'duration': 1926}\n",
      "{'time': '2025-10-05T15:58:57.001278Z', 'page': '/settings', 'ip_address': '35.205.28.72', 'session_id': '85dcd61e-7f43-4419-a5e0-3013ab6f6801', 'id': 17, 'user_agent': 'Mozilla/5.0 (iPad; CPU iPad OS 14_2 like Mac OS X) AppleWebKit/534.2 (KHTML, like Gecko) CriOS/54.0.844.0 Mobile/59Z342 Safari/534.2', 'referrer': 'https://linkedin.com', 'duration': 2475}\n",
      "{'time': '2025-10-05T15:58:58.125140Z', 'page': '/blog', 'ip_address': '11.77.175.239', 'session_id': 'c52aeef0-33fb-46a3-af48-5c8eef65b3cb', 'id': 18, 'user_agent': 'Mozilla/5.0 (Macintosh; Intel Mac OS X 10_7_6 rv:5.0; ug-CN) AppleWebKit/534.25.7 (KHTML, like Gecko) Version/4.1 Safari/534.25.7', 'referrer': 'https://twitter.com', 'duration': 4558}\n",
      "{'time': '2025-10-05T15:58:59.224254Z', 'page': '/signup', 'ip_address': '142.42.54.200', 'session_id': '2ce28037-15d4-4e05-8b8b-784f8b16bf83', 'id': 19, 'user_agent': 'Mozilla/5.0 (iPod; U; CPU iPhone OS 4_0 like Mac OS X; yo-NG) AppleWebKit/532.25.3 (KHTML, like Gecko) Version/4.0.5 Mobile/8B117 Safari/6532.25.3', 'referrer': '', 'duration': 1880}\n",
      "{'time': '2025-10-05T15:59:00.036716Z', 'page': '/login', 'ip_address': '156.18.179.0', 'session_id': '9a273af6-61e0-4c47-b6b8-04252b0c6158', 'id': 20, 'user_agent': 'Mozilla/5.0 (iPad; CPU iPad OS 9_3_5 like Mac OS X) AppleWebKit/533.0 (KHTML, like Gecko) FxiOS/12.5k3654.0 Mobile/33Q644 Safari/533.0', 'referrer': '', 'duration': 2009}\n",
      "{'time': '2025-10-05T15:59:00.814472Z', 'page': '/settings', 'ip_address': '222.58.208.150', 'session_id': 'f73cbb45-2a07-402a-a3ed-46ca5b510457', 'id': 21, 'user_agent': 'Mozilla/5.0 (Macintosh; Intel Mac OS X 10_6_5; rv:1.9.6.20) Gecko/5058-12-03 06:42:29 Firefox/7.0', 'referrer': 'https://twitter.com', 'duration': 2305}\n",
      "{'time': '2025-10-05T15:59:01.542321Z', 'page': '/login', 'ip_address': '134.237.8.168', 'session_id': '1735e6c9-d9fa-4b99-b090-299f44fe155a', 'id': 22, 'user_agent': 'Mozilla/5.0 (X11; Linux i686; rv:1.9.7.20) Gecko/5387-05-25 23:42:35 Firefox/3.6.17', 'referrer': 'https://github.com', 'duration': 768}\n",
      "{'time': '2025-10-05T15:59:02.687477Z', 'page': '/products', 'ip_address': '45.46.44.183', 'session_id': 'f73cbb45-2a07-402a-a3ed-46ca5b510457', 'id': 23, 'user_agent': 'Opera/8.91.(X11; Linux x86_64; tt-RU) Presto/2.9.175 Version/11.00', 'referrer': 'https://twitter.com', 'duration': 4799}\n",
      "{'time': '2025-10-05T15:59:03.548174Z', 'page': '/about', 'ip_address': '141.196.8.179', 'session_id': '596c9d97-75b6-42c7-9825-1815e4f7b3e4', 'id': 24, 'user_agent': 'Opera/8.97.(X11; Linux i686; ber-MA) Presto/2.9.180 Version/12.00', 'referrer': 'https://linkedin.com', 'duration': 4522}\n",
      "{'time': '2025-10-05T15:59:04.356450Z', 'page': '/settings', 'ip_address': '117.71.141.160', 'session_id': 'c52aeef0-33fb-46a3-af48-5c8eef65b3cb', 'id': 25, 'user_agent': 'Mozilla/5.0 (Windows NT 11.0; so-DJ; rv:1.9.2.20) Gecko/8780-10-23 01:49:22 Firefox/3.8', 'referrer': 'https://facebook.com', 'duration': 1437}\n",
      "{'time': '2025-10-05T15:59:05.195239Z', 'page': '/settings', 'ip_address': '222.253.206.18', 'session_id': 'c40ca856-50be-4942-ae43-141c4a815480', 'id': 26, 'user_agent': 'Mozilla/5.0 (iPad; CPU iPad OS 5_1_1 like Mac OS X) AppleWebKit/535.1 (KHTML, like Gecko) FxiOS/11.8x7892.0 Mobile/52N089 Safari/535.1', 'referrer': 'https://facebook.com', 'duration': 1623}\n",
      "{'time': '2025-10-05T15:59:06.301356Z', 'page': '/blog', 'ip_address': '99.112.181.102', 'session_id': '067ca2f2-b683-47c2-ac1f-ac91c609c35d', 'id': 27, 'user_agent': 'Opera/9.79.(Windows NT 10.0; wa-BE) Presto/2.9.189 Version/10.00', 'referrer': 'https://github.com', 'duration': 2467}\n",
      "{'time': '2025-10-05T15:59:07.666505Z', 'page': '/signup', 'ip_address': '23.139.106.66', 'session_id': 'ccfaa3cc-98f5-46cb-80b3-c46f50ce3ac1', 'id': 28, 'user_agent': 'Opera/9.91.(X11; Linux i686; mni-IN) Presto/2.9.171 Version/12.00', 'referrer': '', 'duration': 2468}\n",
      "{'time': '2025-10-05T15:59:08.555931Z', 'page': '/login', 'ip_address': '11.131.99.18', 'session_id': 'c40ca856-50be-4942-ae43-141c4a815480', 'id': 29, 'user_agent': 'Mozilla/5.0 (iPod; U; CPU iPhone OS 3_3 like Mac OS X; om-ET) AppleWebKit/535.1.1 (KHTML, like Gecko) Version/4.0.5 Mobile/8B115 Safari/6535.1.1', 'referrer': 'https://github.com', 'duration': 277}\n",
      "{'time': '2025-10-05T15:59:09.388065Z', 'page': '/pricing', 'ip_address': '134.111.51.187', 'session_id': 'fc6ea486-bb62-49c6-ab85-0d5cdb56ea95', 'id': 30, 'user_agent': 'Mozilla/5.0 (Linux; Android 14) AppleWebKit/536.1 (KHTML, like Gecko) Chrome/26.0.846.0 Safari/536.1', 'referrer': 'https://linkedin.com', 'duration': 2351}\n",
      "{'time': '2025-10-05T15:59:10.243848Z', 'page': '/pricing', 'ip_address': '82.9.179.67', 'session_id': '02c7c1ab-9512-4f04-91c4-66e0f5f978ed', 'id': 31, 'user_agent': 'Mozilla/5.0 (Android 8.0.0; Mobile; rv:41.0) Gecko/41.0 Firefox/41.0', 'referrer': '', 'duration': 1467}\n",
      "{'time': '2025-10-05T15:59:11.553610Z', 'page': '/about', 'ip_address': '48.70.31.156', 'session_id': 'c52aeef0-33fb-46a3-af48-5c8eef65b3cb', 'id': 32, 'user_agent': 'Opera/9.54.(X11; Linux x86_64; ckb-IQ) Presto/2.9.169 Version/12.00', 'referrer': 'https://facebook.com', 'duration': 1275}\n",
      "{'time': '2025-10-05T15:59:12.489426Z', 'page': '/about', 'ip_address': '12.59.223.50', 'session_id': 'ccfaa3cc-98f5-46cb-80b3-c46f50ce3ac1', 'id': 33, 'user_agent': 'Opera/8.66.(X11; Linux x86_64; kn-IN) Presto/2.9.167 Version/11.00', 'referrer': 'https://facebook.com', 'duration': 1756}\n",
      "{'time': '2025-10-05T15:59:13.431530Z', 'page': '/login', 'ip_address': '205.215.135.8', 'session_id': 'c40ca856-50be-4942-ae43-141c4a815480', 'id': 34, 'user_agent': 'Mozilla/5.0 (X11; Linux x86_64) AppleWebKit/535.2 (KHTML, like Gecko) Chrome/30.0.872.0 Safari/535.2', 'referrer': 'https://linkedin.com', 'duration': 3302}\n",
      "{'time': '2025-10-05T15:59:14.265543Z', 'page': '/about', 'ip_address': '91.94.76.182', 'session_id': 'fc6ea486-bb62-49c6-ab85-0d5cdb56ea95', 'id': 35, 'user_agent': 'Opera/9.19.(X11; Linux i686; ik-CA) Presto/2.9.182 Version/10.00', 'referrer': 'https://twitter.com', 'duration': 4099}\n",
      "{'time': '2025-10-05T15:59:15.048208Z', 'page': '/dashboard', 'ip_address': '128.137.26.220', 'session_id': 'c40ca856-50be-4942-ae43-141c4a815480', 'id': 36, 'user_agent': 'Mozilla/5.0 (iPod; U; CPU iPhone OS 4_1 like Mac OS X; eu-FR) AppleWebKit/533.34.4 (KHTML, like Gecko) Version/3.0.5 Mobile/8B117 Safari/6533.34.4', 'referrer': 'https://github.com', 'duration': 4322}\n",
      "{'time': '2025-10-05T15:59:15.820712Z', 'page': '/products', 'ip_address': '78.189.248.88', 'session_id': '61bdea11-3426-4134-9687-4ff7a010644f', 'id': 37, 'user_agent': 'Mozilla/5.0 (Macintosh; PPC Mac OS X 10_12_0 rv:3.0; ga-IE) AppleWebKit/534.15.3 (KHTML, like Gecko) Version/5.0 Safari/534.15.3', 'referrer': 'https://github.com', 'duration': 3563}\n",
      "{'time': '2025-10-05T15:59:16.617220Z', 'page': '/signup', 'ip_address': '193.38.138.143', 'session_id': 'a6dd8838-956f-49cd-b175-d54482864159', 'id': 38, 'user_agent': 'Mozilla/5.0 (Macintosh; Intel Mac OS X 10_8_2) AppleWebKit/535.0 (KHTML, like Gecko) Chrome/48.0.882.0 Safari/535.0', 'referrer': 'https://github.com', 'duration': 1720}\n",
      "{'time': '2025-10-05T15:59:17.664654Z', 'page': '/pricing', 'ip_address': '64.85.178.4', 'session_id': '1735e6c9-d9fa-4b99-b090-299f44fe155a', 'id': 39, 'user_agent': 'Mozilla/5.0 (compatible; MSIE 5.0; Windows NT 5.2; Trident/3.1)', 'referrer': 'https://google.com', 'duration': 1165}\n",
      "{'time': '2025-10-05T15:59:18.520046Z', 'page': '/pricing', 'ip_address': '141.69.48.203', 'session_id': 'fc6ea486-bb62-49c6-ab85-0d5cdb56ea95', 'id': 40, 'user_agent': 'Mozilla/5.0 (Windows; U; Windows NT 5.0) AppleWebKit/533.30.7 (KHTML, like Gecko) Version/4.0.4 Safari/533.30.7', 'referrer': '', 'duration': 4782}\n",
      "{'time': '2025-10-05T15:59:19.490852Z', 'page': '/products', 'ip_address': '51.227.172.239', 'session_id': '9a273af6-61e0-4c47-b6b8-04252b0c6158', 'id': 41, 'user_agent': 'Opera/9.16.(X11; Linux i686; nds-DE) Presto/2.9.178 Version/10.00', 'referrer': 'https://linkedin.com', 'duration': 4615}\n",
      "{'time': '2025-10-05T15:59:20.273676Z', 'page': '/contact', 'ip_address': '123.82.49.193', 'session_id': '1735e6c9-d9fa-4b99-b090-299f44fe155a', 'id': 42, 'user_agent': 'Mozilla/5.0 (Android 12.1; Mobile; rv:29.0) Gecko/29.0 Firefox/29.0', 'referrer': 'https://facebook.com', 'duration': 3062}\n",
      "{'time': '2025-10-05T15:59:20.960797Z', 'page': '/about', 'ip_address': '139.253.99.158', 'session_id': 'ae32e40b-2a37-4794-886e-a6ec867664a7', 'id': 43, 'user_agent': 'Mozilla/5.0 (Linux; Android 5.0) AppleWebKit/536.1 (KHTML, like Gecko) Chrome/46.0.831.0 Safari/536.1', 'referrer': '', 'duration': 2646}\n",
      "{'time': '2025-10-05T15:59:21.908756Z', 'page': '/products', 'ip_address': '214.212.61.41', 'session_id': 'c52aeef0-33fb-46a3-af48-5c8eef65b3cb', 'id': 44, 'user_agent': 'Mozilla/5.0 (Windows; U; Windows NT 5.2) AppleWebKit/535.3.7 (KHTML, like Gecko) Version/4.1 Safari/535.3.7', 'referrer': 'https://twitter.com', 'duration': 2523}\n",
      "{'time': '2025-10-05T15:59:22.687450Z', 'page': '/', 'ip_address': '29.176.41.24', 'session_id': 'ccfaa3cc-98f5-46cb-80b3-c46f50ce3ac1', 'id': 45, 'user_agent': 'Mozilla/5.0 (Linux; Android 3.2) AppleWebKit/533.1 (KHTML, like Gecko) Chrome/41.0.816.0 Safari/533.1', 'referrer': '', 'duration': 3278}\n",
      "{'time': '2025-10-05T15:59:23.500464Z', 'page': '/dashboard', 'ip_address': '137.238.213.45', 'session_id': '9a273af6-61e0-4c47-b6b8-04252b0c6158', 'id': 46, 'user_agent': 'Opera/8.22.(Windows NT 6.1; kk-KZ) Presto/2.9.163 Version/12.00', 'referrer': 'https://google.com', 'duration': 3208}\n",
      "{'time': '2025-10-05T15:59:24.474990Z', 'page': '/contact', 'ip_address': '210.249.191.25', 'session_id': '9a273af6-61e0-4c47-b6b8-04252b0c6158', 'id': 47, 'user_agent': 'Opera/9.77.(X11; Linux i686; wa-BE) Presto/2.9.160 Version/12.00', 'referrer': 'https://twitter.com', 'duration': 4580}\n",
      "{'time': '2025-10-05T15:59:25.612461Z', 'page': '/dashboard', 'ip_address': '128.160.123.79', 'session_id': '14d45a0d-7455-4f73-8f98-39a3797f13ff', 'id': 48, 'user_agent': 'Mozilla/5.0 (Macintosh; PPC Mac OS X 10_5_9) AppleWebKit/531.2 (KHTML, like Gecko) Chrome/61.0.893.0 Safari/531.2', 'referrer': '', 'duration': 438}\n",
      "{'time': '2025-10-05T15:59:26.577090Z', 'page': '/blog', 'ip_address': '182.81.191.71', 'session_id': '9a273af6-61e0-4c47-b6b8-04252b0c6158', 'id': 49, 'user_agent': 'Mozilla/5.0 (Windows; U; Windows 95) AppleWebKit/533.25.1 (KHTML, like Gecko) Version/5.1 Safari/533.25.1', 'referrer': 'https://linkedin.com', 'duration': 3041}\n",
      "{'time': '2025-10-05T15:59:27.597412Z', 'page': '/settings', 'ip_address': '162.89.58.95', 'session_id': '5c2b100b-d7dc-4beb-a839-34e9a5fdc2d0', 'id': 50, 'user_agent': 'Opera/9.50.(X11; Linux i686; mk-MK) Presto/2.9.190 Version/11.00', 'referrer': 'https://google.com', 'duration': 3456}\n",
      "{'time': '2025-10-05T15:59:28.653950Z', 'page': '/dashboard', 'ip_address': '210.152.202.169', 'session_id': 'c52aeef0-33fb-46a3-af48-5c8eef65b3cb', 'id': 51, 'user_agent': 'Opera/9.21.(X11; Linux i686; cy-GB) Presto/2.9.179 Version/12.00', 'referrer': 'https://linkedin.com', 'duration': 4873}\n",
      "{'time': '2025-10-05T15:59:29.801997Z', 'page': '/', 'ip_address': '104.168.87.198', 'session_id': 'ccfaa3cc-98f5-46cb-80b3-c46f50ce3ac1', 'id': 52, 'user_agent': 'Mozilla/5.0 (Android 2.3.1; Mobile; rv:44.0) Gecko/44.0 Firefox/44.0', 'referrer': 'https://facebook.com', 'duration': 619}\n",
      "{'time': '2025-10-05T15:59:30.733978Z', 'page': '/signup', 'ip_address': '39.48.116.152', 'session_id': 'a6dd8838-956f-49cd-b175-d54482864159', 'id': 53, 'user_agent': 'Opera/8.56.(X11; Linux i686; id-ID) Presto/2.9.172 Version/12.00', 'referrer': 'https://twitter.com', 'duration': 4892}\n",
      "{'time': '2025-10-05T15:59:31.501191Z', 'page': '/blog', 'ip_address': '27.183.131.83', 'session_id': '596c9d97-75b6-42c7-9825-1815e4f7b3e4', 'id': 54, 'user_agent': 'Mozilla/5.0 (Windows; U; Windows NT 11.0) AppleWebKit/531.35.3 (KHTML, like Gecko) Version/4.0.3 Safari/531.35.3', 'referrer': 'https://github.com', 'duration': 2391}\n",
      "{'time': '2025-10-05T15:59:32.236574Z', 'page': '/login', 'ip_address': '33.99.24.255', 'session_id': 'f73cbb45-2a07-402a-a3ed-46ca5b510457', 'id': 55, 'user_agent': 'Mozilla/5.0 (iPod; U; CPU iPhone OS 4_0 like Mac OS X; mni-IN) AppleWebKit/532.23.3 (KHTML, like Gecko) Version/3.0.5 Mobile/8B112 Safari/6532.23.3', 'referrer': 'https://github.com', 'duration': 4385}\n",
      "{'time': '2025-10-05T15:59:33.004280Z', 'page': '/', 'ip_address': '66.111.125.98', 'session_id': 'c52aeef0-33fb-46a3-af48-5c8eef65b3cb', 'id': 56, 'user_agent': 'Mozilla/5.0 (iPad; CPU iPad OS 4_2_1 like Mac OS X) AppleWebKit/535.0 (KHTML, like Gecko) CriOS/35.0.863.0 Mobile/88J140 Safari/535.0', 'referrer': 'https://facebook.com', 'duration': 4640}\n",
      "{'time': '2025-10-05T15:59:33.852901Z', 'page': '/products', 'ip_address': '107.14.43.145', 'session_id': 'e7a76ba1-8c80-4971-99d9-b6c76d331137', 'id': 57, 'user_agent': 'Opera/9.19.(Windows 98; Win 9x 4.90; fil-PH) Presto/2.9.163 Version/10.00', 'referrer': 'https://facebook.com', 'duration': 1938}\n",
      "{'time': '2025-10-05T15:59:34.733310Z', 'page': '/contact', 'ip_address': '12.248.197.105', 'session_id': 'c52aeef0-33fb-46a3-af48-5c8eef65b3cb', 'id': 58, 'user_agent': 'Mozilla/5.0 (iPod; U; CPU iPhone OS 3_2 like Mac OS X; bo-CN) AppleWebKit/533.48.4 (KHTML, like Gecko) Version/4.0.5 Mobile/8B111 Safari/6533.48.4', 'referrer': 'https://google.com', 'duration': 4957}\n",
      "{'time': '2025-10-05T15:59:35.431209Z', 'page': '/contact', 'ip_address': '142.64.104.7', 'session_id': '14d45a0d-7455-4f73-8f98-39a3797f13ff', 'id': 59, 'user_agent': 'Mozilla/5.0 (Linux; Android 4.0.2) AppleWebKit/534.2 (KHTML, like Gecko) Chrome/42.0.843.0 Safari/534.2', 'referrer': '', 'duration': 652}\n",
      "{'time': '2025-10-05T15:59:36.313341Z', 'page': '/contact', 'ip_address': '142.235.183.53', 'session_id': '02c7c1ab-9512-4f04-91c4-66e0f5f978ed', 'id': 60, 'user_agent': 'Mozilla/5.0 (Macintosh; U; PPC Mac OS X 10_11_5) AppleWebKit/535.0 (KHTML, like Gecko) Chrome/54.0.883.0 Safari/535.0', 'referrer': 'https://facebook.com', 'duration': 2301}\n",
      "{'time': '2025-10-05T15:59:37.278028Z', 'page': '/about', 'ip_address': '3.90.204.206', 'session_id': 'c52aeef0-33fb-46a3-af48-5c8eef65b3cb', 'id': 61, 'user_agent': 'Mozilla/5.0 (Windows; U; Windows NT 11.0) AppleWebKit/533.25.4 (KHTML, like Gecko) Version/4.0.1 Safari/533.25.4', 'referrer': 'https://linkedin.com', 'duration': 1181}\n",
      "{'time': '2025-10-05T15:59:38.410608Z', 'page': '/pricing', 'ip_address': '17.95.118.61', 'session_id': '5c2b100b-d7dc-4beb-a839-34e9a5fdc2d0', 'id': 62, 'user_agent': 'Opera/9.94.(Windows NT 5.0; fy-NL) Presto/2.9.189 Version/12.00', 'referrer': 'https://google.com', 'duration': 570}\n",
      "{'time': '2025-10-05T15:59:39.175698Z', 'page': '/products', 'ip_address': '63.98.231.241', 'session_id': 'a6dd8838-956f-49cd-b175-d54482864159', 'id': 63, 'user_agent': 'Mozilla/5.0 (X11; Linux i686; rv:1.9.6.20) Gecko/7284-05-07 15:32:59 Firefox/3.8', 'referrer': 'https://google.com', 'duration': 1511}\n",
      "{'time': '2025-10-05T15:59:39.872473Z', 'page': '/dashboard', 'ip_address': '19.139.221.28', 'session_id': '2ce28037-15d4-4e05-8b8b-784f8b16bf83', 'id': 64, 'user_agent': 'Mozilla/5.0 (Windows CE) AppleWebKit/532.2 (KHTML, like Gecko) Chrome/61.0.831.0 Safari/532.2', 'referrer': 'https://linkedin.com', 'duration': 4447}\n",
      "{'time': '2025-10-05T15:59:40.573673Z', 'page': '/dashboard', 'ip_address': '83.237.11.7', 'session_id': 'c52aeef0-33fb-46a3-af48-5c8eef65b3cb', 'id': 65, 'user_agent': 'Opera/9.90.(Windows NT 5.2; sa-IN) Presto/2.9.165 Version/10.00', 'referrer': 'https://twitter.com', 'duration': 1972}\n",
      "{'time': '2025-10-05T15:59:41.592661Z', 'page': '/contact', 'ip_address': '87.31.66.126', 'session_id': '1735e6c9-d9fa-4b99-b090-299f44fe155a', 'id': 66, 'user_agent': 'Mozilla/5.0 (Windows CE; an-ES; rv:1.9.0.20) Gecko/3880-01-30 07:52:00 Firefox/3.8', 'referrer': 'https://linkedin.com', 'duration': 4186}\n",
      "{'time': '2025-10-05T15:59:42.379604Z', 'page': '/signup', 'ip_address': '41.190.160.68', 'session_id': '61bdea11-3426-4134-9687-4ff7a010644f', 'id': 67, 'user_agent': 'Mozilla/5.0 (Windows; U; Windows NT 6.0) AppleWebKit/532.43.3 (KHTML, like Gecko) Version/4.0.5 Safari/532.43.3', 'referrer': 'https://twitter.com', 'duration': 98}\n",
      "{'time': '2025-10-05T15:59:43.118824Z', 'page': '/pricing', 'ip_address': '143.233.183.193', 'session_id': '792d1191-1107-4928-8e61-9842ebd629c9', 'id': 68, 'user_agent': 'Opera/9.99.(X11; Linux i686; bs-BA) Presto/2.9.165 Version/10.00', 'referrer': 'https://google.com', 'duration': 4017}\n",
      "{'time': '2025-10-05T15:59:44.261791Z', 'page': '/signup', 'ip_address': '136.25.252.163', 'session_id': '14d45a0d-7455-4f73-8f98-39a3797f13ff', 'id': 69, 'user_agent': 'Opera/9.61.(Windows NT 5.2; ne-NP) Presto/2.9.175 Version/11.00', 'referrer': 'https://twitter.com', 'duration': 542}\n",
      "{'time': '2025-10-05T15:59:45.435602Z', 'page': '/contact', 'ip_address': '32.126.183.219', 'session_id': 'a6dd8838-956f-49cd-b175-d54482864159', 'id': 70, 'user_agent': 'Mozilla/5.0 (Linux; Android 5.0.2) AppleWebKit/535.2 (KHTML, like Gecko) Chrome/35.0.836.0 Safari/535.2', 'referrer': 'https://github.com', 'duration': 1752}\n",
      "{'time': '2025-10-05T15:59:46.525379Z', 'page': '/settings', 'ip_address': '44.190.146.12', 'session_id': '596c9d97-75b6-42c7-9825-1815e4f7b3e4', 'id': 71, 'user_agent': 'Mozilla/5.0 (iPad; CPU iPad OS 5_1_1 like Mac OS X) AppleWebKit/534.0 (KHTML, like Gecko) FxiOS/15.8k6211.0 Mobile/50W217 Safari/534.0', 'referrer': 'https://google.com', 'duration': 4210}\n",
      "{'time': '2025-10-05T15:59:47.498602Z', 'page': '/about', 'ip_address': '163.100.208.149', 'session_id': 'ae32e40b-2a37-4794-886e-a6ec867664a7', 'id': 72, 'user_agent': 'Mozilla/5.0 (Windows 98; nhn-MX; rv:1.9.1.20) Gecko/2947-09-28 15:13:24 Firefox/9.0', 'referrer': 'https://twitter.com', 'duration': 462}\n",
      "{'time': '2025-10-05T15:59:48.339423Z', 'page': '/login', 'ip_address': '198.26.103.68', 'session_id': 'c52aeef0-33fb-46a3-af48-5c8eef65b3cb', 'id': 73, 'user_agent': 'Mozilla/5.0 (Macintosh; U; PPC Mac OS X 10_12_2 rv:3.0; mr-IN) AppleWebKit/533.20.1 (KHTML, like Gecko) Version/5.0.4 Safari/533.20.1', 'referrer': 'https://google.com', 'duration': 4943}\n",
      "{'time': '2025-10-05T15:59:49.135811Z', 'page': '/about', 'ip_address': '220.235.76.26', 'session_id': 'c52aeef0-33fb-46a3-af48-5c8eef65b3cb', 'id': 74, 'user_agent': 'Mozilla/5.0 (iPod; U; CPU iPhone OS 4_0 like Mac OS X; ca-ES) AppleWebKit/532.19.2 (KHTML, like Gecko) Version/4.0.5 Mobile/8B113 Safari/6532.19.2', 'referrer': 'https://linkedin.com', 'duration': 150}\n",
      "{'time': '2025-10-05T15:59:49.743212Z', 'page': '/', 'ip_address': '102.184.191.32', 'session_id': '5c2b100b-d7dc-4beb-a839-34e9a5fdc2d0', 'id': 75, 'user_agent': 'Mozilla/5.0 (iPad; CPU iPad OS 1_1_5 like Mac OS X) AppleWebKit/535.1 (KHTML, like Gecko) FxiOS/9.0j0373.0 Mobile/58L284 Safari/535.1', 'referrer': 'https://facebook.com', 'duration': 2431}\n",
      "{'time': '2025-10-05T15:59:50.446761Z', 'page': '/dashboard', 'ip_address': '191.240.72.121', 'session_id': 'a6dd8838-956f-49cd-b175-d54482864159', 'id': 76, 'user_agent': 'Mozilla/5.0 (Linux; Android 4.2.1) AppleWebKit/536.2 (KHTML, like Gecko) Chrome/45.0.896.0 Safari/536.2', 'referrer': 'https://google.com', 'duration': 1353}\n",
      "{'time': '2025-10-05T15:59:51.078599Z', 'page': '/about', 'ip_address': '94.76.242.213', 'session_id': '9a273af6-61e0-4c47-b6b8-04252b0c6158', 'id': 77, 'user_agent': 'Mozilla/5.0 (Windows; U; Windows NT 5.1) AppleWebKit/533.26.5 (KHTML, like Gecko) Version/4.1 Safari/533.26.5', 'referrer': 'https://twitter.com', 'duration': 4958}\n",
      "{'time': '2025-10-05T15:59:51.783548Z', 'page': '/products', 'ip_address': '14.173.4.226', 'session_id': 'e7a76ba1-8c80-4971-99d9-b6c76d331137', 'id': 78, 'user_agent': 'Mozilla/5.0 (Windows NT 5.1) AppleWebKit/531.1 (KHTML, like Gecko) Chrome/43.0.846.0 Safari/531.1', 'referrer': 'https://github.com', 'duration': 2254}\n",
      "{'time': '2025-10-05T15:59:52.476913Z', 'page': '/', 'ip_address': '40.137.33.13', 'session_id': '596c9d97-75b6-42c7-9825-1815e4f7b3e4', 'id': 79, 'user_agent': 'Mozilla/5.0 (Android 14; Mobile; rv:42.0) Gecko/42.0 Firefox/42.0', 'referrer': 'https://google.com', 'duration': 1229}\n",
      "{'time': '2025-10-05T15:59:53.190841Z', 'page': '/products', 'ip_address': '185.198.67.206', 'session_id': 'c320dd5c-9f6b-4309-a55b-5d51fee5cbf9', 'id': 80, 'user_agent': 'Opera/9.35.(X11; Linux x86_64; ko-KR) Presto/2.9.179 Version/10.00', 'referrer': 'https://github.com', 'duration': 2780}\n",
      "{'time': '2025-10-05T15:59:53.829738Z', 'page': '/settings', 'ip_address': '147.245.148.78', 'session_id': 'c40ca856-50be-4942-ae43-141c4a815480', 'id': 81, 'user_agent': 'Mozilla/5.0 (Windows CE; ps-AF; rv:1.9.2.20) Gecko/3853-02-11 10:54:20 Firefox/3.8', 'referrer': 'https://twitter.com', 'duration': 519}\n",
      "{'time': '2025-10-05T15:59:54.455419Z', 'page': '/login', 'ip_address': '151.9.238.72', 'session_id': 'a6dd8838-956f-49cd-b175-d54482864159', 'id': 82, 'user_agent': 'Mozilla/5.0 (Windows 95; mg-MG; rv:1.9.1.20) Gecko/8312-12-24 20:19:44 Firefox/3.8', 'referrer': 'https://google.com', 'duration': 4394}\n",
      "{'time': '2025-10-05T15:59:55.096634Z', 'page': '/contact', 'ip_address': '218.172.249.43', 'session_id': '5c2b100b-d7dc-4beb-a839-34e9a5fdc2d0', 'id': 83, 'user_agent': 'Mozilla/5.0 (X11; Linux x86_64; rv:1.9.7.20) Gecko/7552-06-27 16:41:05 Firefox/3.8', 'referrer': 'https://twitter.com', 'duration': 99}\n",
      "{'time': '2025-10-05T15:59:55.972950Z', 'page': '/', 'ip_address': '143.153.98.107', 'session_id': '9a273af6-61e0-4c47-b6b8-04252b0c6158', 'id': 84, 'user_agent': 'Mozilla/5.0 (Windows 98) AppleWebKit/536.0 (KHTML, like Gecko) Chrome/19.0.871.0 Safari/536.0', 'referrer': 'https://twitter.com', 'duration': 4001}\n",
      "{'time': '2025-10-05T15:59:56.707177Z', 'page': '/blog', 'ip_address': '200.138.7.109', 'session_id': 'a6dd8838-956f-49cd-b175-d54482864159', 'id': 85, 'user_agent': 'Mozilla/5.0 (Macintosh; U; Intel Mac OS X 10_7_6) AppleWebKit/533.1 (KHTML, like Gecko) Chrome/58.0.850.0 Safari/533.1', 'referrer': '', 'duration': 1343}\n",
      "{'time': '2025-10-05T15:59:57.434721Z', 'page': '/login', 'ip_address': '180.98.230.5', 'session_id': 'ae32e40b-2a37-4794-886e-a6ec867664a7', 'id': 86, 'user_agent': 'Mozilla/5.0 (Windows NT 5.0; ln-CD; rv:1.9.0.20) Gecko/8795-02-08 11:57:07 Firefox/12.0', 'referrer': 'https://facebook.com', 'duration': 4971}\n",
      "{'time': '2025-10-05T15:59:58.154804Z', 'page': '/about', 'ip_address': '70.245.116.102', 'session_id': '067ca2f2-b683-47c2-ac1f-ac91c609c35d', 'id': 87, 'user_agent': 'Mozilla/5.0 (Android 4.0; Mobile; rv:66.0) Gecko/66.0 Firefox/66.0', 'referrer': 'https://github.com', 'duration': 3989}\n",
      "{'time': '2025-10-05T15:59:58.787544Z', 'page': '/login', 'ip_address': '190.49.17.123', 'session_id': 'ccfaa3cc-98f5-46cb-80b3-c46f50ce3ac1', 'id': 88, 'user_agent': 'Opera/8.57.(Windows 98; gv-GB) Presto/2.9.180 Version/12.00', 'referrer': '', 'duration': 4774}\n",
      "{'time': '2025-10-05T15:59:59.539263Z', 'page': '/signup', 'ip_address': '163.52.15.230', 'session_id': '067ca2f2-b683-47c2-ac1f-ac91c609c35d', 'id': 89, 'user_agent': 'Mozilla/5.0 (Macintosh; U; PPC Mac OS X 10_8_1 rv:4.0; yi-US) AppleWebKit/535.8.6 (KHTML, like Gecko) Version/4.0.5 Safari/535.8.6', 'referrer': 'https://twitter.com', 'duration': 2813}\n",
      "{'time': '2025-10-05T16:00:00.253059Z', 'page': '/login', 'ip_address': '168.92.181.72', 'session_id': '792d1191-1107-4928-8e61-9842ebd629c9', 'id': 90, 'user_agent': 'Opera/8.99.(Windows NT 5.2; om-KE) Presto/2.9.185 Version/12.00', 'referrer': 'https://linkedin.com', 'duration': 2730}\n",
      "{'time': '2025-10-05T16:00:00.993027Z', 'page': '/pricing', 'ip_address': '54.249.178.143', 'session_id': '067ca2f2-b683-47c2-ac1f-ac91c609c35d', 'id': 91, 'user_agent': 'Opera/9.75.(Windows NT 5.2; lg-UG) Presto/2.9.179 Version/11.00', 'referrer': 'https://github.com', 'duration': 2552}\n",
      "{'time': '2025-10-05T16:00:01.794055Z', 'page': '/products', 'ip_address': '214.159.145.157', 'session_id': 'c52aeef0-33fb-46a3-af48-5c8eef65b3cb', 'id': 92, 'user_agent': 'Opera/8.94.(Windows NT 5.1; sid-ET) Presto/2.9.186 Version/10.00', 'referrer': 'https://linkedin.com', 'duration': 601}\n",
      "{'time': '2025-10-05T16:00:02.373438Z', 'page': '/blog', 'ip_address': '72.18.51.146', 'session_id': 'c320dd5c-9f6b-4309-a55b-5d51fee5cbf9', 'id': 93, 'user_agent': 'Mozilla/5.0 (iPhone; CPU iPhone OS 17_3 like Mac OS X) AppleWebKit/536.1 (KHTML, like Gecko) CriOS/58.0.865.0 Mobile/22U307 Safari/536.1', 'referrer': 'https://facebook.com', 'duration': 4027}\n",
      "{'time': '2025-10-05T16:00:03.060265Z', 'page': '/about', 'ip_address': '212.101.17.192', 'session_id': '5c2b100b-d7dc-4beb-a839-34e9a5fdc2d0', 'id': 94, 'user_agent': 'Opera/9.48.(Windows NT 6.1; pt-PT) Presto/2.9.169 Version/11.00', 'referrer': 'https://facebook.com', 'duration': 3298}\n",
      "{'time': '2025-10-05T16:00:03.672355Z', 'page': '/', 'ip_address': '79.133.49.17', 'session_id': '067ca2f2-b683-47c2-ac1f-ac91c609c35d', 'id': 95, 'user_agent': 'Opera/8.79.(X11; Linux i686; ky-KG) Presto/2.9.164 Version/12.00', 'referrer': 'https://linkedin.com', 'duration': 3640}\n",
      "{'time': '2025-10-05T16:00:04.227903Z', 'page': '/about', 'ip_address': '29.90.186.89', 'session_id': '02c7c1ab-9512-4f04-91c4-66e0f5f978ed', 'id': 96, 'user_agent': 'Mozilla/5.0 (iPod; U; CPU iPhone OS 4_1 like Mac OS X; mag-IN) AppleWebKit/533.23.3 (KHTML, like Gecko) Version/4.0.5 Mobile/8B113 Safari/6533.23.3', 'referrer': 'https://linkedin.com', 'duration': 3911}\n",
      "{'time': '2025-10-05T16:00:04.752052Z', 'page': '/settings', 'ip_address': '24.166.74.62', 'session_id': '9a273af6-61e0-4c47-b6b8-04252b0c6158', 'id': 97, 'user_agent': 'Mozilla/5.0 (iPod; U; CPU iPhone OS 3_0 like Mac OS X; pa-PK) AppleWebKit/534.7.7 (KHTML, like Gecko) Version/3.0.5 Mobile/8B115 Safari/6534.7.7', 'referrer': 'https://twitter.com', 'duration': 3631}\n",
      "{'time': '2025-10-05T16:00:05.306922Z', 'page': '/products', 'ip_address': '85.90.125.56', 'session_id': '5c2b100b-d7dc-4beb-a839-34e9a5fdc2d0', 'id': 98, 'user_agent': 'Mozilla/5.0 (Linux; Android 7.1) AppleWebKit/532.1 (KHTML, like Gecko) Chrome/24.0.802.0 Safari/532.1', 'referrer': 'https://google.com', 'duration': 1581}\n",
      "{'time': '2025-10-05T16:00:05.858511Z', 'page': '/blog', 'ip_address': '107.196.138.9', 'session_id': 'f73cbb45-2a07-402a-a3ed-46ca5b510457', 'id': 99, 'user_agent': 'Mozilla/5.0 (iPad; CPU iPad OS 15_8_2 like Mac OS X) AppleWebKit/531.1 (KHTML, like Gecko) CriOS/31.0.874.0 Mobile/45D055 Safari/531.1', 'referrer': '', 'duration': 461}\n",
      "{'time': '2025-10-05T16:00:06.412377Z', 'page': '/settings', 'ip_address': '3.183.238.92', 'session_id': '61bdea11-3426-4134-9687-4ff7a010644f', 'id': 100, 'user_agent': 'Mozilla/5.0 (Android 4.2; Mobile; rv:58.0) Gecko/58.0 Firefox/58.0', 'referrer': 'https://github.com', 'duration': 3381}\n"
     ]
    }
   ],
   "source": [
    "from faker import Faker\n",
    "import random\n",
    "events = 100\n",
    "pages = [\n",
    "        \"/\", \"/about\", \"/pricing\", \"/contact\", \n",
    "        \"/blog\", \"/products\", \"/login\", \"/signup\",\n",
    "        \"/dashboard\", \"/settings\"\n",
    "    ]\n",
    "fake = Faker()\n",
    "session_ids = [fake.uuid4() for _ in range(20)]\n",
    "path = \"/api/events/\"\n",
    "base_url = \"http://localhost:8002\" # 127.0.0.1\n",
    "base_url = \"https://analytics-api-production-2ea8.up.railway.app\"\n",
    "create_endpoint = f\"{base_url}{path}\"\n",
    "referrers = [\n",
    "    \"https://google.com\",\n",
    "    \"https://facebook.com\",\n",
    "    \"https://twitter.com\",\n",
    "    \"https://linkedin.com\",\n",
    "    \"\",  # direct traffic\n",
    "    \"https://github.com\"\n",
    "]\n",
    "for i in range(events):\n",
    "    page = random.choice(pages)\n",
    "    user_agent = random.choice([\n",
    "            fake.chrome,\n",
    "            fake.firefox,\n",
    "            fake.safari,\n",
    "            fake.opera,\n",
    "            fake.user_agent,\n",
    "        ])()\n",
    "    payload = dict(\n",
    "        page=random.choice(pages),\n",
    "        user_agent=user_agent,\n",
    "        ip_address=fake.ipv4(),\n",
    "        referrer=random.choice(referrers),\n",
    "        session_id=random.choice(session_ids),\n",
    "        duration=random.randint(50, 5000)  \n",
    "    )\n",
    "    response = requests.post(create_endpoint, json=payload) # HTTP POST\n",
    "    if response.ok:\n",
    "        data = response.json()\n",
    "        print(data)"
   ]
  }
 ],
 "metadata": {
  "kernelspec": {
   "display_name": "venv",
   "language": "python",
   "name": "python3"
  },
  "language_info": {
   "codemirror_mode": {
    "name": "ipython",
    "version": 3
   },
   "file_extension": ".py",
   "mimetype": "text/x-python",
   "name": "python",
   "nbconvert_exporter": "python",
   "pygments_lexer": "ipython3",
   "version": "3.13.7"
  }
 },
 "nbformat": 4,
 "nbformat_minor": 5
}
