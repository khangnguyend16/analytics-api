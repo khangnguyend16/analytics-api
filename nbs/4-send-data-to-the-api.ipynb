{
 "cells": [
  {
   "cell_type": "code",
   "execution_count": 1,
   "id": "daf217ca",
   "metadata": {},
   "outputs": [],
   "source": [
    "import requests\n",
    "base_url = \"http://localhost:8002\"   # 127.0.0.1"
   ]
  },
  {
   "cell_type": "code",
   "execution_count": 2,
   "id": "c3e815ed",
   "metadata": {},
   "outputs": [
    {
     "name": "stdout",
     "output_type": "stream",
     "text": [
      "<class 'dict'>\n",
      "<class 'str'>\n"
     ]
    }
   ],
   "source": [
    "import json\n",
    "data={\"page\":\"/test+\"}\n",
    "print(type(data))\n",
    "print(type(json.dumps(data)))"
   ]
  },
  {
   "cell_type": "code",
   "execution_count": 20,
   "id": "3fc56054",
   "metadata": {},
   "outputs": [
    {
     "name": "stdout",
     "output_type": "stream",
     "text": [
      "{'date': 'Sun, 05 Oct 2025 08:52:58 GMT', 'server': 'uvicorn', 'content-length': '126', 'content-type': 'application/json'}\n",
      "ok True\n",
      "{'description': '123', 'id': 204, 'page': '/test+', 'updated_at': '2025-10-05T08:52:58.980779Z', 'time': '2025-10-05T08:52:58.980769Z'} <class 'dict'> None\n"
     ]
    }
   ],
   "source": [
    "path = \"/api/events\"\n",
    "create_endpoint = f\"{base_url}{path}\"\n",
    "response = requests.post(create_endpoint,json={\"page\":\"/test+\",\"description\":\"123\"})\n",
    "print(response.headers)\n",
    "print('ok',response.ok)\n",
    "if response.ok:\n",
    "    data = response.json()\n",
    "    print(data,type(data),data.get('items'))\n",
    "else:\n",
    "    print(response.text)"
   ]
  },
  {
   "cell_type": "code",
   "execution_count": 31,
   "id": "a57eaada",
   "metadata": {},
   "outputs": [
    {
     "name": "stdout",
     "output_type": "stream",
     "text": [
      "{'date': 'Sat, 04 Oct 2025 12:04:33 GMT', 'server': 'uvicorn', 'content-length': '138', 'content-type': 'application/json'}\n",
      "ok True\n",
      "{'created_at': '2025-10-04T12:03:48.858215Z', 'page': '/test+', 'updated_at': '2025-10-04T12:04:34.218887Z', 'description': 'inline test', 'id': 1} <class 'dict'> None\n"
     ]
    }
   ],
   "source": [
    "detail_path = \"/api/events/1\"\n",
    "detail_endpoint = f\"{base_url}{detail_path}\"\n",
    "response = requests.put(detail_endpoint,json={\"description\":\"inline test\"})\n",
    "print(response.headers)\n",
    "print('ok',response.ok)\n",
    "if response.ok:\n",
    "    data = response.json()\n",
    "    print(data,type(data),data.get('items'))\n",
    "else:\n",
    "    print(response.text)"
   ]
  },
  {
   "cell_type": "code",
   "execution_count": 26,
   "id": "626a7713",
   "metadata": {},
   "outputs": [
    {
     "name": "stdout",
     "output_type": "stream",
     "text": [
      "{'date': 'Sat, 04 Oct 2025 11:30:52 GMT', 'server': 'uvicorn', 'content-length': '11', 'content-type': 'application/json'}\n",
      "ok True\n",
      "{'ok': True} <class 'dict'> None\n"
     ]
    }
   ],
   "source": [
    "detail_path = \"/api/events/12\"\n",
    "detail_endpoint = f\"{base_url}{detail_path}\"\n",
    "response = requests.delete(detail_endpoint,json={\"description\":\"inline test\"})\n",
    "print(response.headers)\n",
    "print('ok',response.ok)\n",
    "if response.ok:\n",
    "    data = response.json()\n",
    "    print(data,type(data),data.get('items'))\n",
    "else:\n",
    "    print(response.text)"
   ]
  },
  {
   "cell_type": "code",
   "execution_count": null,
   "id": "485e7392",
   "metadata": {},
   "outputs": [],
   "source": [
    "import random\n",
    "event_count = 100\n",
    "\n",
    "pages = ['/about','/contact','/pages','/pricing']\n",
    "\n",
    "for i in range(event_count):\n",
    "    page = random.choice(pages)\n",
    "    response = requests.post(create_endpoint,json={\"page\":page})\n",
    "    if (response.ok):\n",
    "        data = response.json()\n",
    "        print(data,type(data),data.get('items'))\n",
    "    else:\n",
    "        print(response.text)"
   ]
  },
  {
   "cell_type": "code",
   "execution_count": 23,
   "id": "4edf418a",
   "metadata": {},
   "outputs": [
    {
     "name": "stdout",
     "output_type": "stream",
     "text": [
      "Collecting faker\n",
      "  Downloading faker-37.8.0-py3-none-any.whl.metadata (15 kB)\n",
      "Requirement already satisfied: tzdata in d:\\onedrive\\knowledge\\computer\\youtube\\codingentrepreneurs\\analytics-api\\venv\\lib\\site-packages (from faker) (2025.2)\n",
      "Downloading faker-37.8.0-py3-none-any.whl (2.0 MB)\n",
      "   ---------------------------------------- 0.0/2.0 MB ? eta -:--:--\n",
      "   ------------------------------------- -- 1.8/2.0 MB 16.5 MB/s eta 0:00:01\n",
      "   ---------------------------------------- 2.0/2.0 MB 13.3 MB/s  0:00:00\n",
      "Installing collected packages: faker\n",
      "Successfully installed faker-37.8.0\n",
      "Note: you may need to restart the kernel to use updated packages.\n"
     ]
    }
   ],
   "source": [
    "%pip install faker"
   ]
  },
  {
   "cell_type": "code",
   "execution_count": 3,
   "id": "f3137eef",
   "metadata": {},
   "outputs": [
    {
     "name": "stdout",
     "output_type": "stream",
     "text": [
      "{'page': '/dashboard', 'ip_address': '157.86.189.51', 'time': '2025-10-05T10:13:19.224049Z', 'session_id': '0564fdf0-c72a-4b96-8a34-92cb80514769', 'user_agent': 'Mozilla/5.0 (Linux; Android 3.2.2) AppleWebKit/534.0 (KHTML, like Gecko) Chrome/15.0.840.0 Safari/534.0', 'id': 101, 'referrer': 'https://linkedin.com', 'duration': 3778}\n",
      "{'page': '/pricing', 'ip_address': '195.245.120.191', 'time': '2025-10-05T10:13:19.250183Z', 'session_id': '035a72a3-d5b8-43ea-862b-2f387268a6ea', 'user_agent': 'Mozilla/5.0 (Macintosh; U; Intel Mac OS X 10_11_5) AppleWebKit/535.2 (KHTML, like Gecko) Chrome/23.0.813.0 Safari/535.2', 'id': 102, 'referrer': 'https://twitter.com', 'duration': 2638}\n",
      "{'page': '/contact', 'ip_address': '76.64.40.173', 'time': '2025-10-05T10:13:19.268501Z', 'session_id': '10fd8c67-381f-42b9-9fa8-f06a2cadb456', 'user_agent': 'Mozilla/5.0 (iPhone; CPU iPhone OS 15_8_2 like Mac OS X) AppleWebKit/535.0 (KHTML, like Gecko) CriOS/44.0.895.0 Mobile/49H444 Safari/535.0', 'id': 103, 'referrer': 'https://google.com', 'duration': 3968}\n",
      "{'page': '/pricing', 'ip_address': '31.72.8.149', 'time': '2025-10-05T10:13:19.286890Z', 'session_id': '10fd8c67-381f-42b9-9fa8-f06a2cadb456', 'user_agent': 'Mozilla/5.0 (X11; Linux i686) AppleWebKit/534.0 (KHTML, like Gecko) Chrome/42.0.808.0 Safari/534.0', 'id': 104, 'referrer': 'https://facebook.com', 'duration': 1817}\n",
      "{'page': '/login', 'ip_address': '213.222.191.134', 'time': '2025-10-05T10:13:19.305045Z', 'session_id': '787c38dc-bda3-4de3-a2e4-68f183cc98e2', 'user_agent': 'Mozilla/5.0 (iPad; CPU iPad OS 10_3_3 like Mac OS X) AppleWebKit/536.1 (KHTML, like Gecko) CriOS/47.0.812.0 Mobile/05E717 Safari/536.1', 'id': 105, 'referrer': 'https://twitter.com', 'duration': 3767}\n",
      "{'page': '/contact', 'ip_address': '28.121.218.1', 'time': '2025-10-05T10:13:19.323702Z', 'session_id': '6a40bf1c-2473-437b-b057-871efc05ed74', 'user_agent': 'Mozilla/5.0 (X11; Linux i686) AppleWebKit/532.1 (KHTML, like Gecko) Chrome/19.0.820.0 Safari/532.1', 'id': 106, 'referrer': 'https://github.com', 'duration': 1147}\n",
      "{'page': '/pricing', 'ip_address': '71.172.118.195', 'time': '2025-10-05T10:13:19.341000Z', 'session_id': '526e97dd-03f5-446b-b4ed-049f908f774b', 'user_agent': 'Mozilla/5.0 (Windows 98; Win 9x 4.90; is-IS; rv:1.9.0.20) Gecko/7959-01-13 14:42:56 Firefox/6.0', 'id': 107, 'referrer': 'https://linkedin.com', 'duration': 784}\n",
      "{'page': '/', 'ip_address': '53.19.232.67', 'time': '2025-10-05T10:13:19.361629Z', 'session_id': '10fd8c67-381f-42b9-9fa8-f06a2cadb456', 'user_agent': 'Mozilla/5.0 (Macintosh; U; Intel Mac OS X 10_9_0) AppleWebKit/531.1 (KHTML, like Gecko) Chrome/57.0.847.0 Safari/531.1', 'id': 108, 'referrer': 'https://twitter.com', 'duration': 74}\n",
      "{'page': '/signup', 'ip_address': '215.232.5.70', 'time': '2025-10-05T10:13:19.403834Z', 'session_id': 'f9ab3b62-c111-40a8-89df-1e99fcc30d3a', 'user_agent': 'Mozilla/5.0 (Windows NT 6.1) AppleWebKit/534.0 (KHTML, like Gecko) Chrome/51.0.820.0 Safari/534.0', 'id': 109, 'referrer': '', 'duration': 1691}\n",
      "{'page': '/login', 'ip_address': '152.188.86.138', 'time': '2025-10-05T10:13:19.456899Z', 'session_id': '787c38dc-bda3-4de3-a2e4-68f183cc98e2', 'user_agent': 'Mozilla/5.0 (iPhone; CPU iPhone OS 14_2_1 like Mac OS X) AppleWebKit/534.0 (KHTML, like Gecko) CriOS/39.0.817.0 Mobile/24K161 Safari/534.0', 'id': 110, 'referrer': '', 'duration': 4846}\n",
      "{'page': '/about', 'ip_address': '214.123.17.155', 'time': '2025-10-05T10:13:19.514168Z', 'session_id': '9760d8de-e8f5-4ff1-8518-f661fb0f850b', 'user_agent': 'Opera/8.82.(X11; Linux x86_64; yo-NG) Presto/2.9.186 Version/12.00', 'id': 111, 'referrer': 'https://linkedin.com', 'duration': 1180}\n",
      "{'page': '/contact', 'ip_address': '15.169.61.216', 'time': '2025-10-05T10:13:19.562763Z', 'session_id': '3acbdd1b-9ce8-453c-947e-0fedfb022b52', 'user_agent': 'Mozilla/5.0 (Macintosh; PPC Mac OS X 10_9_9 rv:3.0; wal-ET) AppleWebKit/531.24.7 (KHTML, like Gecko) Version/5.0.4 Safari/531.24.7', 'id': 112, 'referrer': 'https://linkedin.com', 'duration': 2368}\n",
      "{'page': '/about', 'ip_address': '7.190.38.137', 'time': '2025-10-05T10:13:19.588477Z', 'session_id': '2cc6d847-50c5-41cc-80dc-712c3517d56e', 'user_agent': 'Mozilla/5.0 (Macintosh; Intel Mac OS X 10_11_2) AppleWebKit/533.0 (KHTML, like Gecko) Chrome/18.0.846.0 Safari/533.0', 'id': 113, 'referrer': 'https://google.com', 'duration': 4165}\n",
      "{'page': '/login', 'ip_address': '84.181.245.31', 'time': '2025-10-05T10:13:19.617700Z', 'session_id': '5409505d-9199-43db-b3b9-e9b0f1579adc', 'user_agent': 'Opera/8.27.(X11; Linux i686; ml-IN) Presto/2.9.187 Version/12.00', 'id': 114, 'referrer': 'https://twitter.com', 'duration': 226}\n",
      "{'page': '/', 'ip_address': '184.23.172.125', 'time': '2025-10-05T10:13:19.642641Z', 'session_id': '63f062d9-9353-4b69-a3fc-433fd1758daf', 'user_agent': 'Opera/8.61.(X11; Linux i686; unm-US) Presto/2.9.162 Version/10.00', 'id': 115, 'referrer': '', 'duration': 2938}\n",
      "{'page': '/signup', 'ip_address': '5.158.43.246', 'time': '2025-10-05T10:13:19.683025Z', 'session_id': '9760d8de-e8f5-4ff1-8518-f661fb0f850b', 'user_agent': 'Mozilla/5.0 (Macintosh; U; Intel Mac OS X 10_6_6; rv:1.9.3.20) Gecko/9627-07-11 22:13:24 Firefox/3.6.13', 'id': 116, 'referrer': '', 'duration': 4550}\n",
      "{'page': '/pricing', 'ip_address': '60.193.26.238', 'time': '2025-10-05T10:13:19.709006Z', 'session_id': '9760d8de-e8f5-4ff1-8518-f661fb0f850b', 'user_agent': 'Opera/9.82.(X11; Linux x86_64; he-IL) Presto/2.9.176 Version/11.00', 'id': 117, 'referrer': '', 'duration': 1162}\n",
      "{'page': '/signup', 'ip_address': '214.117.194.197', 'time': '2025-10-05T10:13:19.737466Z', 'session_id': 'f9ab3b62-c111-40a8-89df-1e99fcc30d3a', 'user_agent': 'Opera/8.85.(X11; Linux i686; mi-NZ) Presto/2.9.173 Version/12.00', 'id': 118, 'referrer': 'https://github.com', 'duration': 1177}\n",
      "{'page': '/pricing', 'ip_address': '90.51.191.36', 'time': '2025-10-05T10:13:19.786869Z', 'session_id': 'c9946163-8875-4ca1-945a-5b83bb4eb17e', 'user_agent': 'Opera/9.99.(Windows NT 5.0; tn-ZA) Presto/2.9.163 Version/10.00', 'id': 119, 'referrer': 'https://google.com', 'duration': 1995}\n",
      "{'page': '/', 'ip_address': '77.29.50.212', 'time': '2025-10-05T10:13:19.837783Z', 'session_id': '6c28cef7-0a4b-47d0-a6d3-739e3031cfbc', 'user_agent': 'Opera/8.84.(Windows NT 4.0; en-ZA) Presto/2.9.171 Version/11.00', 'id': 120, 'referrer': 'https://facebook.com', 'duration': 1233}\n",
      "{'page': '/pricing', 'ip_address': '99.6.9.20', 'time': '2025-10-05T10:13:19.872319Z', 'session_id': '833f9e9d-b561-445e-9828-2c354144fa01', 'user_agent': 'Mozilla/5.0 (Macintosh; U; PPC Mac OS X 10_9_3 rv:2.0; as-IN) AppleWebKit/531.33.1 (KHTML, like Gecko) Version/5.0.4 Safari/531.33.1', 'id': 121, 'referrer': 'https://linkedin.com', 'duration': 1901}\n",
      "{'page': '/signup', 'ip_address': '204.65.189.100', 'time': '2025-10-05T10:13:19.906337Z', 'session_id': '6a40bf1c-2473-437b-b057-871efc05ed74', 'user_agent': 'Mozilla/5.0 (Linux; Android 3.2) AppleWebKit/536.0 (KHTML, like Gecko) Chrome/41.0.870.0 Safari/536.0', 'id': 122, 'referrer': 'https://google.com', 'duration': 252}\n",
      "{'page': '/dashboard', 'ip_address': '180.124.198.97', 'time': '2025-10-05T10:13:19.931612Z', 'session_id': '9760d8de-e8f5-4ff1-8518-f661fb0f850b', 'user_agent': 'Mozilla/5.0 (Windows; U; Windows NT 5.1) AppleWebKit/532.20.1 (KHTML, like Gecko) Version/5.1 Safari/532.20.1', 'id': 123, 'referrer': 'https://facebook.com', 'duration': 4025}\n",
      "{'page': '/', 'ip_address': '4.119.49.97', 'time': '2025-10-05T10:13:19.978033Z', 'session_id': 'f7ddbadc-a62b-4473-984f-3a335b24bf2c', 'user_agent': 'Opera/9.69.(Windows NT 6.0; el-CY) Presto/2.9.169 Version/10.00', 'id': 124, 'referrer': 'https://twitter.com', 'duration': 1689}\n",
      "{'page': '/signup', 'ip_address': '76.70.143.91', 'time': '2025-10-05T10:13:20.003093Z', 'session_id': '6c28cef7-0a4b-47d0-a6d3-739e3031cfbc', 'user_agent': 'Mozilla/5.0 (Windows 95) AppleWebKit/533.0 (KHTML, like Gecko) Chrome/15.0.825.0 Safari/533.0', 'id': 125, 'referrer': 'https://twitter.com', 'duration': 3018}\n",
      "{'page': '/contact', 'ip_address': '167.72.232.132', 'time': '2025-10-05T10:13:20.028594Z', 'session_id': 'c9946163-8875-4ca1-945a-5b83bb4eb17e', 'user_agent': 'Mozilla/5.0 (X11; Linux i686; rv:1.9.6.20) Gecko/2521-08-30 00:49:52 Firefox/3.8', 'id': 126, 'referrer': 'https://google.com', 'duration': 3635}\n",
      "{'page': '/products', 'ip_address': '204.148.200.76', 'time': '2025-10-05T10:13:20.069377Z', 'session_id': '63f062d9-9353-4b69-a3fc-433fd1758daf', 'user_agent': 'Opera/9.51.(Windows NT 6.0; hne-IN) Presto/2.9.188 Version/10.00', 'id': 127, 'referrer': 'https://linkedin.com', 'duration': 3956}\n",
      "{'page': '/about', 'ip_address': '110.162.6.113', 'time': '2025-10-05T10:13:20.096680Z', 'session_id': '0082b274-e268-4680-b2e5-18dd7ce74851', 'user_agent': 'Mozilla/5.0 (iPad; CPU iPad OS 5_1_1 like Mac OS X) AppleWebKit/534.2 (KHTML, like Gecko) FxiOS/13.6q9947.0 Mobile/97C562 Safari/534.2', 'id': 128, 'referrer': 'https://twitter.com', 'duration': 996}\n",
      "{'page': '/pricing', 'ip_address': '176.126.179.175', 'time': '2025-10-05T10:13:20.115584Z', 'session_id': '10fd8c67-381f-42b9-9fa8-f06a2cadb456', 'user_agent': 'Mozilla/5.0 (Linux; Android 3.2.2) AppleWebKit/535.1 (KHTML, like Gecko) Chrome/17.0.808.0 Safari/535.1', 'id': 129, 'referrer': 'https://github.com', 'duration': 1779}\n",
      "{'page': '/signup', 'ip_address': '144.158.105.12', 'time': '2025-10-05T10:13:20.136665Z', 'session_id': 'f422646b-e2b7-4ff2-b280-65df28848bd7', 'user_agent': 'Mozilla/5.0 (Macintosh; PPC Mac OS X 10_11_7 rv:2.0; raj-IN) AppleWebKit/533.44.6 (KHTML, like Gecko) Version/4.1 Safari/533.44.6', 'id': 130, 'referrer': 'https://linkedin.com', 'duration': 3414}\n",
      "{'page': '/products', 'ip_address': '19.243.218.242', 'time': '2025-10-05T10:13:20.157765Z', 'session_id': '9ef8a05a-f3df-4862-b821-a454c6a82805', 'user_agent': 'Mozilla/5.0 (Macintosh; Intel Mac OS X 10_10_8; rv:1.9.3.20) Gecko/7624-06-03 21:09:42 Firefox/3.6.5', 'id': 131, 'referrer': 'https://linkedin.com', 'duration': 4358}\n",
      "{'page': '/dashboard', 'ip_address': '53.163.87.1', 'time': '2025-10-05T10:13:20.178555Z', 'session_id': '526e97dd-03f5-446b-b4ed-049f908f774b', 'user_agent': 'Mozilla/5.0 (Windows; U; Windows NT 5.01) AppleWebKit/531.25.4 (KHTML, like Gecko) Version/5.0.5 Safari/531.25.4', 'id': 132, 'referrer': '', 'duration': 1300}\n",
      "{'page': '/settings', 'ip_address': '57.182.198.60', 'time': '2025-10-05T10:13:20.202238Z', 'session_id': 'f9ab3b62-c111-40a8-89df-1e99fcc30d3a', 'user_agent': 'Mozilla/5.0 (X11; Linux x86_64; rv:1.9.5.20) Gecko/7597-09-29 04:02:19 Firefox/3.6.2', 'id': 133, 'referrer': 'https://linkedin.com', 'duration': 2854}\n",
      "{'page': '/', 'ip_address': '33.49.205.102', 'time': '2025-10-05T10:13:20.227556Z', 'session_id': '6a40bf1c-2473-437b-b057-871efc05ed74', 'user_agent': 'Mozilla/5.0 (Windows; U; Windows NT 5.0) AppleWebKit/535.34.7 (KHTML, like Gecko) Version/4.0.2 Safari/535.34.7', 'id': 134, 'referrer': 'https://github.com', 'duration': 1301}\n",
      "{'page': '/signup', 'ip_address': '213.199.172.230', 'time': '2025-10-05T10:13:20.252613Z', 'session_id': '5409505d-9199-43db-b3b9-e9b0f1579adc', 'user_agent': 'Opera/9.44.(X11; Linux x86_64; pap-AW) Presto/2.9.173 Version/12.00', 'id': 135, 'referrer': 'https://github.com', 'duration': 4350}\n",
      "{'page': '/settings', 'ip_address': '221.164.208.171', 'time': '2025-10-05T10:13:20.277413Z', 'session_id': '787c38dc-bda3-4de3-a2e4-68f183cc98e2', 'user_agent': 'Mozilla/5.0 (Windows; U; Windows NT 11.0) AppleWebKit/535.1.7 (KHTML, like Gecko) Version/4.0.1 Safari/535.1.7', 'id': 136, 'referrer': 'https://google.com', 'duration': 2530}\n",
      "{'page': '/about', 'ip_address': '158.95.153.219', 'time': '2025-10-05T10:13:20.298544Z', 'session_id': '10fd8c67-381f-42b9-9fa8-f06a2cadb456', 'user_agent': 'Mozilla/5.0 (Linux; Android 4.1.2) AppleWebKit/532.0 (KHTML, like Gecko) Chrome/57.0.827.0 Safari/532.0', 'id': 137, 'referrer': 'https://facebook.com', 'duration': 432}\n",
      "{'page': '/products', 'ip_address': '27.180.164.150', 'time': '2025-10-05T10:13:20.328088Z', 'session_id': '10fd8c67-381f-42b9-9fa8-f06a2cadb456', 'user_agent': 'Mozilla/5.0 (compatible; MSIE 9.0; Windows NT 5.01; Trident/3.1)', 'id': 138, 'referrer': 'https://google.com', 'duration': 208}\n",
      "{'page': '/blog', 'ip_address': '128.64.104.6', 'time': '2025-10-05T10:13:20.349797Z', 'session_id': '035a72a3-d5b8-43ea-862b-2f387268a6ea', 'user_agent': 'Mozilla/5.0 (Macintosh; PPC Mac OS X 10_5_7) AppleWebKit/534.0 (KHTML, like Gecko) Chrome/25.0.885.0 Safari/534.0', 'id': 139, 'referrer': '', 'duration': 1397}\n",
      "{'page': '/products', 'ip_address': '137.145.171.32', 'time': '2025-10-05T10:13:20.371664Z', 'session_id': '3acbdd1b-9ce8-453c-947e-0fedfb022b52', 'user_agent': 'Opera/9.14.(Windows 98; iu-CA) Presto/2.9.188 Version/12.00', 'id': 140, 'referrer': 'https://linkedin.com', 'duration': 4860}\n",
      "{'page': '/login', 'ip_address': '73.236.191.218', 'time': '2025-10-05T10:13:20.393645Z', 'session_id': '9760d8de-e8f5-4ff1-8518-f661fb0f850b', 'user_agent': 'Mozilla/5.0 (Linux; Android 2.2.2) AppleWebKit/534.2 (KHTML, like Gecko) Chrome/14.0.804.0 Safari/534.2', 'id': 141, 'referrer': '', 'duration': 275}\n",
      "{'page': '/', 'ip_address': '107.85.235.124', 'time': '2025-10-05T10:13:20.416731Z', 'session_id': 'f9ab3b62-c111-40a8-89df-1e99fcc30d3a', 'user_agent': 'Mozilla/5.0 (iPhone; CPU iPhone OS 12_4_4 like Mac OS X) AppleWebKit/533.1 (KHTML, like Gecko) CriOS/28.0.852.0 Mobile/44D329 Safari/533.1', 'id': 142, 'referrer': 'https://google.com', 'duration': 55}\n",
      "{'page': '/login', 'ip_address': '115.105.128.83', 'time': '2025-10-05T10:13:20.437356Z', 'session_id': '3acbdd1b-9ce8-453c-947e-0fedfb022b52', 'user_agent': 'Opera/9.95.(X11; Linux x86_64; my-MM) Presto/2.9.190 Version/10.00', 'id': 143, 'referrer': 'https://facebook.com', 'duration': 430}\n",
      "{'page': '/', 'ip_address': '14.51.182.117', 'time': '2025-10-05T10:13:20.459393Z', 'session_id': 'f9ab3b62-c111-40a8-89df-1e99fcc30d3a', 'user_agent': 'Mozilla/5.0 (Windows; U; Windows 98) AppleWebKit/534.33.2 (KHTML, like Gecko) Version/5.1 Safari/534.33.2', 'id': 144, 'referrer': 'https://twitter.com', 'duration': 1683}\n",
      "{'page': '/products', 'ip_address': '137.44.105.119', 'time': '2025-10-05T10:13:20.480760Z', 'session_id': '5409505d-9199-43db-b3b9-e9b0f1579adc', 'user_agent': 'Opera/9.31.(X11; Linux x86_64; fur-IT) Presto/2.9.172 Version/11.00', 'id': 145, 'referrer': 'https://google.com', 'duration': 1388}\n",
      "{'page': '/blog', 'ip_address': '115.62.217.91', 'time': '2025-10-05T10:13:20.501307Z', 'session_id': '526e97dd-03f5-446b-b4ed-049f908f774b', 'user_agent': 'Mozilla/5.0 (Macintosh; U; PPC Mac OS X 10_12_1; rv:1.9.5.20) Gecko/9818-08-24 20:31:12 Firefox/3.8', 'id': 146, 'referrer': 'https://linkedin.com', 'duration': 1310}\n",
      "{'page': '/products', 'ip_address': '153.248.72.223', 'time': '2025-10-05T10:13:20.523114Z', 'session_id': '2cc6d847-50c5-41cc-80dc-712c3517d56e', 'user_agent': 'Mozilla/5.0 (X11; Linux x86_64; rv:1.9.5.20) Gecko/5413-04-12 22:07:48 Firefox/3.6.11', 'id': 147, 'referrer': 'https://twitter.com', 'duration': 3424}\n",
      "{'page': '/products', 'ip_address': '75.162.16.225', 'time': '2025-10-05T10:13:20.543112Z', 'session_id': '526e97dd-03f5-446b-b4ed-049f908f774b', 'user_agent': 'Mozilla/5.0 (Windows NT 5.0; fa-IR; rv:1.9.1.20) Gecko/7148-06-21 11:45:32 Firefox/3.8', 'id': 148, 'referrer': 'https://facebook.com', 'duration': 3191}\n",
      "{'page': '/products', 'ip_address': '164.92.98.124', 'time': '2025-10-05T10:13:20.571938Z', 'session_id': '0082b274-e268-4680-b2e5-18dd7ce74851', 'user_agent': 'Mozilla/5.0 (Windows 95; se-NO; rv:1.9.1.20) Gecko/6357-02-25 14:43:31 Firefox/3.8', 'id': 149, 'referrer': '', 'duration': 3901}\n",
      "{'page': '/pricing', 'ip_address': '184.8.175.107', 'time': '2025-10-05T10:13:20.602051Z', 'session_id': '833f9e9d-b561-445e-9828-2c354144fa01', 'user_agent': 'Mozilla/5.0 (X11; Linux i686; rv:1.9.5.20) Gecko/3254-01-13 22:13:09 Firefox/3.6.8', 'id': 150, 'referrer': 'https://github.com', 'duration': 2269}\n",
      "{'page': '/products', 'ip_address': '110.54.140.92', 'time': '2025-10-05T10:13:20.632983Z', 'session_id': '0082b274-e268-4680-b2e5-18dd7ce74851', 'user_agent': 'Mozilla/5.0 (Windows NT 5.2; gl-ES; rv:1.9.1.20) Gecko/7045-06-27 01:37:14 Firefox/3.8', 'id': 151, 'referrer': 'https://google.com', 'duration': 186}\n",
      "{'page': '/blog', 'ip_address': '131.29.98.197', 'time': '2025-10-05T10:13:20.670068Z', 'session_id': '3acbdd1b-9ce8-453c-947e-0fedfb022b52', 'user_agent': 'Mozilla/5.0 (iPhone; CPU iPhone OS 7_1_2 like Mac OS X) AppleWebKit/534.0 (KHTML, like Gecko) CriOS/13.0.828.0 Mobile/96O646 Safari/534.0', 'id': 152, 'referrer': 'https://facebook.com', 'duration': 3647}\n",
      "{'page': '/products', 'ip_address': '197.233.191.223', 'time': '2025-10-05T10:13:20.702665Z', 'session_id': '10fd8c67-381f-42b9-9fa8-f06a2cadb456', 'user_agent': 'Opera/9.67.(Windows 98; Win 9x 4.90; tig-ER) Presto/2.9.173 Version/12.00', 'id': 153, 'referrer': 'https://facebook.com', 'duration': 3531}\n",
      "{'page': '/settings', 'ip_address': '90.91.148.2', 'time': '2025-10-05T10:13:20.731061Z', 'session_id': 'f422646b-e2b7-4ff2-b280-65df28848bd7', 'user_agent': 'Opera/9.37.(Windows 98; fil-PH) Presto/2.9.174 Version/10.00', 'id': 154, 'referrer': 'https://google.com', 'duration': 4512}\n",
      "{'page': '/products', 'ip_address': '70.59.164.20', 'time': '2025-10-05T10:13:20.755724Z', 'session_id': 'c144a80f-baae-446c-82a4-85fa5150d306', 'user_agent': 'Opera/8.68.(Windows 95; sat-IN) Presto/2.9.165 Version/12.00', 'id': 155, 'referrer': 'https://linkedin.com', 'duration': 1777}\n",
      "{'page': '/blog', 'ip_address': '182.116.137.160', 'time': '2025-10-05T10:13:20.784044Z', 'session_id': '6c28cef7-0a4b-47d0-a6d3-739e3031cfbc', 'user_agent': 'Mozilla/5.0 (X11; Linux x86_64; rv:1.9.7.20) Gecko/4200-03-24 11:18:55 Firefox/3.8', 'id': 156, 'referrer': 'https://github.com', 'duration': 2425}\n",
      "{'page': '/signup', 'ip_address': '62.44.4.74', 'time': '2025-10-05T10:13:20.802516Z', 'session_id': 'f422646b-e2b7-4ff2-b280-65df28848bd7', 'user_agent': 'Mozilla/5.0 (Macintosh; U; Intel Mac OS X 10_10_3 rv:2.0; ms-MY) AppleWebKit/533.30.3 (KHTML, like Gecko) Version/5.0.1 Safari/533.30.3', 'id': 157, 'referrer': '', 'duration': 4433}\n",
      "{'page': '/blog', 'ip_address': '136.16.71.158', 'time': '2025-10-05T10:13:20.822281Z', 'session_id': '0564fdf0-c72a-4b96-8a34-92cb80514769', 'user_agent': 'Mozilla/5.0 (Windows NT 5.1; mni-IN; rv:1.9.1.20) Gecko/5581-04-22 00:22:42 Firefox/3.8', 'id': 158, 'referrer': 'https://linkedin.com', 'duration': 105}\n",
      "{'page': '/products', 'ip_address': '18.228.234.89', 'time': '2025-10-05T10:13:20.841863Z', 'session_id': 'f7ddbadc-a62b-4473-984f-3a335b24bf2c', 'user_agent': 'Mozilla/5.0 (iPad; CPU iPad OS 5_1_1 like Mac OS X) AppleWebKit/533.0 (KHTML, like Gecko) FxiOS/17.1f0242.0 Mobile/10H070 Safari/533.0', 'id': 159, 'referrer': 'https://google.com', 'duration': 1197}\n",
      "{'page': '/pricing', 'ip_address': '156.142.90.249', 'time': '2025-10-05T10:13:20.861487Z', 'session_id': '6a40bf1c-2473-437b-b057-871efc05ed74', 'user_agent': 'Opera/8.62.(Windows NT 5.1; am-ET) Presto/2.9.186 Version/10.00', 'id': 160, 'referrer': '', 'duration': 1299}\n",
      "{'page': '/products', 'ip_address': '170.237.239.108', 'time': '2025-10-05T10:13:20.881300Z', 'session_id': 'f9ab3b62-c111-40a8-89df-1e99fcc30d3a', 'user_agent': 'Mozilla/5.0 (Macintosh; U; PPC Mac OS X 10_5_9 rv:6.0; nl-BE) AppleWebKit/533.42.7 (KHTML, like Gecko) Version/4.1 Safari/533.42.7', 'id': 161, 'referrer': 'https://google.com', 'duration': 1455}\n",
      "{'page': '/blog', 'ip_address': '214.111.19.105', 'time': '2025-10-05T10:13:20.903245Z', 'session_id': '3acbdd1b-9ce8-453c-947e-0fedfb022b52', 'user_agent': 'Opera/8.62.(Windows 95; so-ET) Presto/2.9.175 Version/10.00', 'id': 162, 'referrer': 'https://github.com', 'duration': 3573}\n",
      "{'page': '/products', 'ip_address': '100.138.180.112', 'time': '2025-10-05T10:13:20.925120Z', 'session_id': '0082b274-e268-4680-b2e5-18dd7ce74851', 'user_agent': 'Mozilla/5.0 (iPod; U; CPU iPhone OS 3_1 like Mac OS X; hne-IN) AppleWebKit/535.44.3 (KHTML, like Gecko) Version/3.0.5 Mobile/8B111 Safari/6535.44.3', 'id': 163, 'referrer': 'https://google.com', 'duration': 2810}\n",
      "{'page': '/settings', 'ip_address': '81.27.87.54', 'time': '2025-10-05T10:13:20.943362Z', 'session_id': '10fd8c67-381f-42b9-9fa8-f06a2cadb456', 'user_agent': 'Mozilla/5.0 (Windows; U; Windows NT 10.0) AppleWebKit/534.36.5 (KHTML, like Gecko) Version/4.0.3 Safari/534.36.5', 'id': 164, 'referrer': 'https://google.com', 'duration': 221}\n",
      "{'page': '/contact', 'ip_address': '76.141.123.13', 'time': '2025-10-05T10:13:20.962011Z', 'session_id': '9760d8de-e8f5-4ff1-8518-f661fb0f850b', 'user_agent': 'Mozilla/5.0 (Macintosh; U; PPC Mac OS X 10_5_3; rv:1.9.3.20) Gecko/7997-07-18 18:43:19 Firefox/3.8', 'id': 165, 'referrer': 'https://google.com', 'duration': 4184}\n",
      "{'page': '/', 'ip_address': '96.226.88.173', 'time': '2025-10-05T10:13:20.984964Z', 'session_id': '9ef8a05a-f3df-4862-b821-a454c6a82805', 'user_agent': 'Mozilla/5.0 (Macintosh; U; Intel Mac OS X 10_12_9; rv:1.9.6.20) Gecko/3996-09-08 12:26:19 Firefox/3.6.4', 'id': 166, 'referrer': '', 'duration': 571}\n",
      "{'page': '/', 'ip_address': '12.62.127.14', 'time': '2025-10-05T10:13:21.020639Z', 'session_id': 'c144a80f-baae-446c-82a4-85fa5150d306', 'user_agent': 'Mozilla/5.0 (iPod; U; CPU iPhone OS 4_1 like Mac OS X; nl-NL) AppleWebKit/534.27.1 (KHTML, like Gecko) Version/4.0.5 Mobile/8B118 Safari/6534.27.1', 'id': 167, 'referrer': 'https://linkedin.com', 'duration': 1815}\n",
      "{'page': '/contact', 'ip_address': '7.248.100.96', 'time': '2025-10-05T10:13:21.040758Z', 'session_id': '9760d8de-e8f5-4ff1-8518-f661fb0f850b', 'user_agent': 'Mozilla/5.0 (Windows; U; Windows NT 5.1) AppleWebKit/531.47.4 (KHTML, like Gecko) Version/4.0 Safari/531.47.4', 'id': 168, 'referrer': 'https://linkedin.com', 'duration': 1193}\n",
      "{'page': '/contact', 'ip_address': '114.63.244.11', 'time': '2025-10-05T10:13:21.058142Z', 'session_id': '63f062d9-9353-4b69-a3fc-433fd1758daf', 'user_agent': 'Mozilla/5.0 (Macintosh; U; Intel Mac OS X 10_8_6; rv:1.9.6.20) Gecko/5245-06-05 11:42:09 Firefox/3.6.18', 'id': 169, 'referrer': 'https://twitter.com', 'duration': 3498}\n",
      "{'page': '/', 'ip_address': '80.44.98.147', 'time': '2025-10-05T10:13:21.076497Z', 'session_id': '035a72a3-d5b8-43ea-862b-2f387268a6ea', 'user_agent': 'Mozilla/5.0 (X11; Linux x86_64; rv:1.9.7.20) Gecko/9023-10-10 21:39:25 Firefox/3.8', 'id': 170, 'referrer': 'https://twitter.com', 'duration': 4915}\n",
      "{'page': '/', 'ip_address': '79.5.183.79', 'time': '2025-10-05T10:13:21.097186Z', 'session_id': '526e97dd-03f5-446b-b4ed-049f908f774b', 'user_agent': 'Mozilla/5.0 (X11; Linux x86_64) AppleWebKit/533.1 (KHTML, like Gecko) Chrome/47.0.847.0 Safari/533.1', 'id': 171, 'referrer': 'https://linkedin.com', 'duration': 837}\n",
      "{'page': '/pricing', 'ip_address': '153.228.64.175', 'time': '2025-10-05T10:13:21.117084Z', 'session_id': '6a40bf1c-2473-437b-b057-871efc05ed74', 'user_agent': 'Mozilla/5.0 (Macintosh; PPC Mac OS X 10_6_6 rv:4.0; hu-HU) AppleWebKit/534.24.4 (KHTML, like Gecko) Version/5.0.3 Safari/534.24.4', 'id': 172, 'referrer': 'https://github.com', 'duration': 2391}\n",
      "{'page': '/', 'ip_address': '199.3.152.80', 'time': '2025-10-05T10:13:21.144497Z', 'session_id': 'c144a80f-baae-446c-82a4-85fa5150d306', 'user_agent': 'Mozilla/5.0 (compatible; MSIE 6.0; Windows NT 6.1; Trident/4.1)', 'id': 173, 'referrer': 'https://twitter.com', 'duration': 1538}\n",
      "{'page': '/products', 'ip_address': '159.49.87.224', 'time': '2025-10-05T10:13:21.198218Z', 'session_id': '10fd8c67-381f-42b9-9fa8-f06a2cadb456', 'user_agent': 'Mozilla/5.0 (Macintosh; PPC Mac OS X 10_5_2; rv:1.9.2.20) Gecko/3303-06-12 00:22:54 Firefox/3.8', 'id': 174, 'referrer': 'https://linkedin.com', 'duration': 3517}\n",
      "{'page': '/', 'ip_address': '9.188.180.16', 'time': '2025-10-05T10:13:21.222771Z', 'session_id': '5409505d-9199-43db-b3b9-e9b0f1579adc', 'user_agent': 'Opera/9.70.(X11; Linux x86_64; zh-HK) Presto/2.9.174 Version/11.00', 'id': 175, 'referrer': 'https://twitter.com', 'duration': 3686}\n",
      "{'page': '/', 'ip_address': '194.59.5.31', 'time': '2025-10-05T10:13:21.258568Z', 'session_id': '10fd8c67-381f-42b9-9fa8-f06a2cadb456', 'user_agent': 'Mozilla/5.0 (Android 7.1.2; Mobile; rv:32.0) Gecko/32.0 Firefox/32.0', 'id': 176, 'referrer': 'https://google.com', 'duration': 4547}\n",
      "{'page': '/about', 'ip_address': '137.178.151.69', 'time': '2025-10-05T10:13:21.290797Z', 'session_id': 'c9946163-8875-4ca1-945a-5b83bb4eb17e', 'user_agent': 'Mozilla/5.0 (Windows NT 6.0) AppleWebKit/536.0 (KHTML, like Gecko) Chrome/53.0.830.0 Safari/536.0', 'id': 177, 'referrer': 'https://linkedin.com', 'duration': 1722}\n",
      "{'page': '/settings', 'ip_address': '39.125.154.56', 'time': '2025-10-05T10:13:21.320056Z', 'session_id': 'c144a80f-baae-446c-82a4-85fa5150d306', 'user_agent': 'Mozilla/5.0 (X11; Linux x86_64; rv:1.9.5.20) Gecko/5863-11-25 07:04:33 Firefox/3.6.2', 'id': 178, 'referrer': 'https://github.com', 'duration': 3498}\n",
      "{'page': '/dashboard', 'ip_address': '177.151.182.60', 'time': '2025-10-05T10:13:21.347588Z', 'session_id': 'f422646b-e2b7-4ff2-b280-65df28848bd7', 'user_agent': 'Mozilla/5.0 (iPod; U; CPU iPhone OS 4_2 like Mac OS X; li-BE) AppleWebKit/531.22.3 (KHTML, like Gecko) Version/3.0.5 Mobile/8B112 Safari/6531.22.3', 'id': 179, 'referrer': '', 'duration': 1439}\n",
      "{'page': '/login', 'ip_address': '24.21.35.227', 'time': '2025-10-05T10:13:21.372399Z', 'session_id': 'f422646b-e2b7-4ff2-b280-65df28848bd7', 'user_agent': 'Mozilla/5.0 (Windows; U; Windows 98) AppleWebKit/534.48.2 (KHTML, like Gecko) Version/4.0 Safari/534.48.2', 'id': 180, 'referrer': 'https://google.com', 'duration': 848}\n",
      "{'page': '/signup', 'ip_address': '105.217.146.225', 'time': '2025-10-05T10:13:21.394654Z', 'session_id': '9ef8a05a-f3df-4862-b821-a454c6a82805', 'user_agent': 'Opera/9.91.(Windows 95; sc-IT) Presto/2.9.163 Version/12.00', 'id': 181, 'referrer': 'https://google.com', 'duration': 3871}\n",
      "{'page': '/pricing', 'ip_address': '202.123.28.119', 'time': '2025-10-05T10:13:21.411871Z', 'session_id': '6a40bf1c-2473-437b-b057-871efc05ed74', 'user_agent': 'Opera/9.76.(X11; Linux x86_64; kl-GL) Presto/2.9.187 Version/11.00', 'id': 182, 'referrer': 'https://twitter.com', 'duration': 382}\n",
      "{'page': '/login', 'ip_address': '203.206.199.30', 'time': '2025-10-05T10:13:21.434598Z', 'session_id': '787c38dc-bda3-4de3-a2e4-68f183cc98e2', 'user_agent': 'Mozilla/5.0 (Windows CE; oc-FR; rv:1.9.2.20) Gecko/2829-05-17 16:21:20 Firefox/3.8', 'id': 183, 'referrer': 'https://google.com', 'duration': 667}\n",
      "{'page': '/about', 'ip_address': '3.114.40.50', 'time': '2025-10-05T10:13:21.454795Z', 'session_id': '10fd8c67-381f-42b9-9fa8-f06a2cadb456', 'user_agent': 'Mozilla/5.0 (iPad; CPU iPad OS 17_4_1 like Mac OS X) AppleWebKit/536.2 (KHTML, like Gecko) CriOS/14.0.857.0 Mobile/08K686 Safari/536.2', 'id': 184, 'referrer': 'https://twitter.com', 'duration': 2968}\n",
      "{'page': '/login', 'ip_address': '99.52.210.169', 'time': '2025-10-05T10:13:21.472865Z', 'session_id': '9760d8de-e8f5-4ff1-8518-f661fb0f850b', 'user_agent': 'Opera/9.54.(X11; Linux x86_64; sr-RS) Presto/2.9.170 Version/11.00', 'id': 185, 'referrer': 'https://google.com', 'duration': 4042}\n",
      "{'page': '/dashboard', 'ip_address': '134.149.8.39', 'time': '2025-10-05T10:13:21.491997Z', 'session_id': '9760d8de-e8f5-4ff1-8518-f661fb0f850b', 'user_agent': 'Mozilla/5.0 (compatible; MSIE 8.0; Windows 95; Trident/4.0)', 'id': 186, 'referrer': 'https://google.com', 'duration': 4885}\n",
      "{'page': '/blog', 'ip_address': '173.171.91.143', 'time': '2025-10-05T10:13:21.508679Z', 'session_id': 'f7ddbadc-a62b-4473-984f-3a335b24bf2c', 'user_agent': 'Mozilla/5.0 (Macintosh; PPC Mac OS X 10_12_5 rv:2.0; mhr-RU) AppleWebKit/532.28.2 (KHTML, like Gecko) Version/4.0 Safari/532.28.2', 'id': 187, 'referrer': '', 'duration': 2461}\n",
      "{'page': '/blog', 'ip_address': '206.5.2.117', 'time': '2025-10-05T10:13:21.528902Z', 'session_id': '3acbdd1b-9ce8-453c-947e-0fedfb022b52', 'user_agent': 'Mozilla/5.0 (Linux; Android 4.0.4) AppleWebKit/534.2 (KHTML, like Gecko) Chrome/15.0.859.0 Safari/534.2', 'id': 188, 'referrer': 'https://linkedin.com', 'duration': 2928}\n",
      "{'page': '/settings', 'ip_address': '45.150.46.188', 'time': '2025-10-05T10:13:21.549361Z', 'session_id': '035a72a3-d5b8-43ea-862b-2f387268a6ea', 'user_agent': 'Mozilla/5.0 (X11; Linux x86_64) AppleWebKit/534.2 (KHTML, like Gecko) Chrome/41.0.896.0 Safari/534.2', 'id': 189, 'referrer': 'https://linkedin.com', 'duration': 3471}\n",
      "{'page': '/contact', 'ip_address': '31.148.108.245', 'time': '2025-10-05T10:13:21.567515Z', 'session_id': '9ef8a05a-f3df-4862-b821-a454c6a82805', 'user_agent': 'Mozilla/5.0 (Windows; U; Windows CE) AppleWebKit/535.34.6 (KHTML, like Gecko) Version/5.1 Safari/535.34.6', 'id': 190, 'referrer': '', 'duration': 1866}\n",
      "{'page': '/', 'ip_address': '38.224.161.147', 'time': '2025-10-05T10:13:21.586067Z', 'session_id': '5409505d-9199-43db-b3b9-e9b0f1579adc', 'user_agent': 'Mozilla/5.0 (iPod; U; CPU iPhone OS 4_3 like Mac OS X; sq-ML) AppleWebKit/535.20.4 (KHTML, like Gecko) Version/3.0.5 Mobile/8B117 Safari/6535.20.4', 'id': 191, 'referrer': 'https://facebook.com', 'duration': 121}\n",
      "{'page': '/products', 'ip_address': '179.120.172.235', 'time': '2025-10-05T10:13:21.602834Z', 'session_id': '3acbdd1b-9ce8-453c-947e-0fedfb022b52', 'user_agent': 'Mozilla/5.0 (X11; Linux x86_64) AppleWebKit/536.1 (KHTML, like Gecko) Chrome/48.0.884.0 Safari/536.1', 'id': 192, 'referrer': 'https://linkedin.com', 'duration': 697}\n",
      "{'page': '/signup', 'ip_address': '84.195.101.68', 'time': '2025-10-05T10:13:21.619739Z', 'session_id': '9ef8a05a-f3df-4862-b821-a454c6a82805', 'user_agent': 'Mozilla/5.0 (X11; Linux x86_64; rv:1.9.7.20) Gecko/8237-05-21 04:30:56 Firefox/10.0', 'id': 193, 'referrer': 'https://github.com', 'duration': 2981}\n",
      "{'page': '/products', 'ip_address': '3.129.52.243', 'time': '2025-10-05T10:13:21.636188Z', 'session_id': '035a72a3-d5b8-43ea-862b-2f387268a6ea', 'user_agent': 'Mozilla/5.0 (Android 7.0; Mobile; rv:55.0) Gecko/55.0 Firefox/55.0', 'id': 194, 'referrer': 'https://google.com', 'duration': 2451}\n",
      "{'page': '/blog', 'ip_address': '183.71.198.12', 'time': '2025-10-05T10:13:21.653969Z', 'session_id': '6c28cef7-0a4b-47d0-a6d3-739e3031cfbc', 'user_agent': 'Mozilla/5.0 (Android 3.2.6; Mobile; rv:62.0) Gecko/62.0 Firefox/62.0', 'id': 195, 'referrer': 'https://linkedin.com', 'duration': 2637}\n",
      "{'page': '/blog', 'ip_address': '81.35.92.65', 'time': '2025-10-05T10:13:21.670047Z', 'session_id': '9760d8de-e8f5-4ff1-8518-f661fb0f850b', 'user_agent': 'Mozilla/5.0 (iPod; U; CPU iPhone OS 3_0 like Mac OS X; iu-CA) AppleWebKit/534.36.7 (KHTML, like Gecko) Version/4.0.5 Mobile/8B116 Safari/6534.36.7', 'id': 196, 'referrer': 'https://facebook.com', 'duration': 2493}\n",
      "{'page': '/settings', 'ip_address': '152.42.17.156', 'time': '2025-10-05T10:13:21.686056Z', 'session_id': 'f9ab3b62-c111-40a8-89df-1e99fcc30d3a', 'user_agent': 'Mozilla/5.0 (Windows; U; Windows 95) AppleWebKit/531.4.7 (KHTML, like Gecko) Version/4.0.4 Safari/531.4.7', 'id': 197, 'referrer': 'https://google.com', 'duration': 3154}\n",
      "{'page': '/blog', 'ip_address': '174.137.211.119', 'time': '2025-10-05T10:13:21.703560Z', 'session_id': '787c38dc-bda3-4de3-a2e4-68f183cc98e2', 'user_agent': 'Mozilla/5.0 (Windows; U; Windows 98) AppleWebKit/531.12.6 (KHTML, like Gecko) Version/4.0.1 Safari/531.12.6', 'id': 198, 'referrer': 'https://twitter.com', 'duration': 1190}\n",
      "{'page': '/dashboard', 'ip_address': '87.140.185.55', 'time': '2025-10-05T10:13:21.719499Z', 'session_id': '787c38dc-bda3-4de3-a2e4-68f183cc98e2', 'user_agent': 'Mozilla/5.0 (iPhone; CPU iPhone OS 3_1_3 like Mac OS X) AppleWebKit/531.0 (KHTML, like Gecko) CriOS/30.0.853.0 Mobile/93W867 Safari/531.0', 'id': 199, 'referrer': 'https://github.com', 'duration': 4139}\n",
      "{'page': '/contact', 'ip_address': '31.157.237.96', 'time': '2025-10-05T10:13:21.738502Z', 'session_id': 'f422646b-e2b7-4ff2-b280-65df28848bd7', 'user_agent': 'Mozilla/5.0 (iPod; U; CPU iPhone OS 3_2 like Mac OS X; ik-CA) AppleWebKit/533.47.2 (KHTML, like Gecko) Version/4.0.5 Mobile/8B111 Safari/6533.47.2', 'id': 200, 'referrer': 'https://twitter.com', 'duration': 621}\n"
     ]
    }
   ],
   "source": [
    "from faker import Faker\n",
    "import random\n",
    "events = 100\n",
    "pages = [\n",
    "        \"/\", \"/about\", \"/pricing\", \"/contact\", \n",
    "        \"/blog\", \"/products\", \"/login\", \"/signup\",\n",
    "        \"/dashboard\", \"/settings\"\n",
    "    ]\n",
    "fake = Faker()\n",
    "session_ids = [fake.uuid4() for _ in range(20)]\n",
    "path = \"/api/events/\"\n",
    "base_url = \"http://localhost:8002\" # 127.0.0.1\n",
    "create_endpoint = f\"{base_url}{path}\"\n",
    "referrers = [\n",
    "    \"https://google.com\",\n",
    "    \"https://facebook.com\",\n",
    "    \"https://twitter.com\",\n",
    "    \"https://linkedin.com\",\n",
    "    \"\",  # direct traffic\n",
    "    \"https://github.com\"\n",
    "]\n",
    "for i in range(events):\n",
    "    page = random.choice(pages)\n",
    "    user_agent = random.choice([\n",
    "            fake.chrome,\n",
    "            fake.firefox,\n",
    "            fake.safari,\n",
    "            fake.opera,\n",
    "            fake.user_agent,\n",
    "        ])()\n",
    "    payload = dict(\n",
    "        page=random.choice(pages),\n",
    "        user_agent=user_agent,\n",
    "        ip_address=fake.ipv4(),\n",
    "        referrer=random.choice(referrers),\n",
    "        session_id=random.choice(session_ids),\n",
    "        duration=random.randint(50, 5000)  \n",
    "    )\n",
    "    response = requests.post(create_endpoint, json=payload) # HTTP POST\n",
    "    if response.ok:\n",
    "        data = response.json()\n",
    "        print(data)"
   ]
  }
 ],
 "metadata": {
  "kernelspec": {
   "display_name": "venv",
   "language": "python",
   "name": "python3"
  },
  "language_info": {
   "codemirror_mode": {
    "name": "ipython",
    "version": 3
   },
   "file_extension": ".py",
   "mimetype": "text/x-python",
   "name": "python",
   "nbconvert_exporter": "python",
   "pygments_lexer": "ipython3",
   "version": "3.13.7"
  }
 },
 "nbformat": 4,
 "nbformat_minor": 5
}
