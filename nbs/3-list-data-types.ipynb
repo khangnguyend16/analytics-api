{
 "cells": [
  {
   "cell_type": "code",
   "execution_count": 7,
   "id": "daf217ca",
   "metadata": {},
   "outputs": [],
   "source": [
    "import requests\n",
    "from pprint import pprint\n",
    "base_url = \"http://localhost:8002\"   # 127.0.0.1\n"
   ]
  },
  {
   "cell_type": "code",
   "execution_count": 14,
   "id": "3fc56054",
   "metadata": {},
   "outputs": [
    {
     "name": "stdout",
     "output_type": "stream",
     "text": [
      "ok True\n",
      "{'count': 1,\n",
      " 'results': [{'created_at': '2025-10-04T12:03:48.858215Z',\n",
      "              'description': 'inline test',\n",
      "              'id': 1,\n",
      "              'page': '/test+',\n",
      "              'updated_at': '2025-10-04T12:04:34.218887Z'}]}\n"
     ]
    }
   ],
   "source": [
    "path = \"/api/events\"\n",
    "endpoint = f\"{base_url}{path}\"\n",
    "response = requests.get(endpoint)\n",
    "print('ok',response.ok)\n",
    "if response.ok:\n",
    "    data = response.json()\n",
    "    pprint(data)"
   ]
  },
  {
   "cell_type": "code",
   "execution_count": 12,
   "id": "a57eaada",
   "metadata": {},
   "outputs": [
    {
     "name": "stdout",
     "output_type": "stream",
     "text": [
      "ok 200\n",
      "{'description': 'inline test', 'id': 12, 'page': '/test+'}\n"
     ]
    }
   ],
   "source": [
    "detail_path = \"/api/events/12\"\n",
    "detail_endpoint = f\"{base_url}{detail_path}\"\n",
    "response = requests.get(detail_endpoint)\n",
    "print('ok',response.status_code)\n",
    "if response.ok:\n",
    "    data = response.json()\n",
    "    pprint(data)"
   ]
  },
  {
   "cell_type": "code",
   "execution_count": null,
   "id": "626a7713",
   "metadata": {},
   "outputs": [],
   "source": []
  },
  {
   "cell_type": "code",
   "execution_count": null,
   "id": "485e7392",
   "metadata": {},
   "outputs": [],
   "source": []
  },
  {
   "cell_type": "code",
   "execution_count": null,
   "id": "4edf418a",
   "metadata": {},
   "outputs": [],
   "source": []
  }
 ],
 "metadata": {
  "kernelspec": {
   "display_name": "venv",
   "language": "python",
   "name": "python3"
  },
  "language_info": {
   "codemirror_mode": {
    "name": "ipython",
    "version": 3
   },
   "file_extension": ".py",
   "mimetype": "text/x-python",
   "name": "python",
   "nbconvert_exporter": "python",
   "pygments_lexer": "ipython3",
   "version": "3.13.7"
  }
 },
 "nbformat": 4,
 "nbformat_minor": 5
}
